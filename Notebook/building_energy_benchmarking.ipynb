{
 "cells": [
  {
   "cell_type": "markdown",
   "id": "169571ba",
   "metadata": {},
   "source": [
    "# Handling Imbalanced Data in Building Energy Benchmarking\n",
    "### Prepared by: Said Bolluk"
   ]
  },
  {
   "cell_type": "markdown",
   "id": "699b301e",
   "metadata": {},
   "source": [
    "This study performs building energy benchmarking over an imbalanced dataset using several machine learning models and aims to reduce the classification loss by employing a cost-sensitive approach. You can access the proceedings book from this link: https://ipcmc2022.yildiz.edu.tr/proceedings-book/"
   ]
  },
  {
   "cell_type": "markdown",
   "id": "a9c00d5e",
   "metadata": {},
   "source": [
    "Import necessary libraries"
   ]
  },
  {
   "cell_type": "code",
   "execution_count": 1,
   "id": "a38d018d",
   "metadata": {},
   "outputs": [],
   "source": [
    "import pandas as pd\n",
    "import numpy as np\n",
    "import matplotlib.pyplot as plt\n",
    "import seaborn as sns\n",
    "import random\n",
    "\n",
    "from sklearn.linear_model import LinearRegression, LogisticRegression\n",
    "from sklearn.ensemble import RandomForestClassifier\n",
    "from sklearn.tree import DecisionTreeClassifier\n",
    "from sklearn.neighbors import KNeighborsClassifier\n",
    "from sklearn.svm import SVC\n",
    "from sklearn.naive_bayes import GaussianNB, ComplementNB, CategoricalNB, MultinomialNB\n",
    "from sklearn.model_selection import train_test_split\n",
    "from sklearn.metrics import classification_report, accuracy_score, recall_score, precision_score, f1_score, fbeta_score\n",
    "from sklearn.metrics import brier_score_loss, matthews_corrcoef, balanced_accuracy_score\n",
    "from sklearn.metrics import confusion_matrix, ConfusionMatrixDisplay\n",
    "from sklearn.preprocessing import StandardScaler, MinMaxScaler, RobustScaler\n",
    "from sklearn.model_selection import KFold\n",
    "from sklearn.metrics import roc_auc_score, roc_curve, precision_recall_curve, auc\n",
    "from sklearn.inspection import permutation_importance\n",
    "from sklearn.model_selection import GridSearchCV, RepeatedStratifiedKFold\n",
    "from sklearn.pipeline import Pipeline\n",
    "from sklearn.neural_network import MLPClassifier\n",
    "\n",
    "import requests as rq\n",
    "import io\n",
    "import random\n",
    "import os\n",
    "import timeit, time\n",
    "\n",
    "# Set a seed number for code reproducibility\n",
    "np.random.seed(42)\n",
    "random.seed(42)\n",
    "\n",
    "# Display more columns\n",
    "pd.options.display.max_columns = 50\n",
    "\n",
    "# Set a resolution for images\n",
    "plt.rcParams['figure.dpi'] = 75"
   ]
  },
  {
   "cell_type": "code",
   "execution_count": 2,
   "id": "c24f91b4",
   "metadata": {},
   "outputs": [],
   "source": [
    "# Start counting a run time\n",
    "overall_start = timeit.default_timer()"
   ]
  },
  {
   "cell_type": "markdown",
   "id": "f26afea0",
   "metadata": {},
   "source": [
    "# 1) Data Preparation"
   ]
  },
  {
   "cell_type": "code",
   "execution_count": 3,
   "id": "ffdf93a9",
   "metadata": {},
   "outputs": [],
   "source": [
    "mydf20 = pd.read_csv(\"2020_Building_Energy_Benchmarking.csv\")"
   ]
  },
  {
   "cell_type": "code",
   "execution_count": 4,
   "id": "8ce3a62c",
   "metadata": {},
   "outputs": [
    {
     "data": {
      "text/html": [
       "<div>\n",
       "<style scoped>\n",
       "    .dataframe tbody tr th:only-of-type {\n",
       "        vertical-align: middle;\n",
       "    }\n",
       "\n",
       "    .dataframe tbody tr th {\n",
       "        vertical-align: top;\n",
       "    }\n",
       "\n",
       "    .dataframe thead th {\n",
       "        text-align: right;\n",
       "    }\n",
       "</style>\n",
       "<table border=\"1\" class=\"dataframe\">\n",
       "  <thead>\n",
       "    <tr style=\"text-align: right;\">\n",
       "      <th></th>\n",
       "      <th>OSEBuildingID</th>\n",
       "      <th>DataYear</th>\n",
       "      <th>BuildingName</th>\n",
       "      <th>BuildingType</th>\n",
       "      <th>TaxParcelIdentificationNumber</th>\n",
       "      <th>Address</th>\n",
       "      <th>City</th>\n",
       "      <th>State</th>\n",
       "      <th>ZipCode</th>\n",
       "      <th>Latitude</th>\n",
       "      <th>Longitude</th>\n",
       "      <th>Neighborhood</th>\n",
       "      <th>CouncilDistrictCode</th>\n",
       "      <th>YearBuilt</th>\n",
       "      <th>NumberofFloors</th>\n",
       "      <th>NumberofBuildings</th>\n",
       "      <th>PropertyGFATotal</th>\n",
       "      <th>PropertyGFABuilding(s)</th>\n",
       "      <th>PropertyGFAParking</th>\n",
       "      <th>ENERGYSTARScore</th>\n",
       "      <th>SiteEUIWN(kBtu/sf)</th>\n",
       "      <th>SiteEUI(kBtu/sf)</th>\n",
       "      <th>SiteEnergyUse(kBtu)</th>\n",
       "      <th>SiteEnergyUseWN(kBtu)</th>\n",
       "      <th>SourceEUIWN(kBtu/sf)</th>\n",
       "      <th>SourceEUI(kBtu/sf)</th>\n",
       "      <th>EPAPropertyType</th>\n",
       "      <th>LargestPropertyUseType</th>\n",
       "      <th>LargestPropertyUseTypeGFA</th>\n",
       "      <th>SecondLargestPropertyUseType</th>\n",
       "      <th>SecondLargestPropertyUseTypeGFA</th>\n",
       "      <th>ThirdLargestPropertyUseType</th>\n",
       "      <th>ThirdLargestPropertyUseTypeGFA</th>\n",
       "      <th>Electricity(kWh)</th>\n",
       "      <th>SteamUse(kBtu)</th>\n",
       "      <th>NaturalGas(therms)</th>\n",
       "      <th>ComplianceStatus</th>\n",
       "      <th>ComplianceIssue</th>\n",
       "      <th>Electricity(kBtu)</th>\n",
       "      <th>NaturalGas(kBtu)</th>\n",
       "      <th>TotalGHGEmissions</th>\n",
       "      <th>GHGEmissionsIntensity</th>\n",
       "    </tr>\n",
       "  </thead>\n",
       "  <tbody>\n",
       "    <tr>\n",
       "      <th>0</th>\n",
       "      <td>1</td>\n",
       "      <td>2020</td>\n",
       "      <td>MAYFLOWER PARK HOTEL</td>\n",
       "      <td>NonResidential</td>\n",
       "      <td>0659000030</td>\n",
       "      <td>405 OLIVE WAY</td>\n",
       "      <td>SEATTLE</td>\n",
       "      <td>WA</td>\n",
       "      <td>98101.0</td>\n",
       "      <td>47.61220</td>\n",
       "      <td>-122.33799</td>\n",
       "      <td>DOWNTOWN</td>\n",
       "      <td>1.0</td>\n",
       "      <td>1927</td>\n",
       "      <td>12</td>\n",
       "      <td>1</td>\n",
       "      <td>88434</td>\n",
       "      <td>88434</td>\n",
       "      <td>0</td>\n",
       "      <td>92.0</td>\n",
       "      <td>55.7</td>\n",
       "      <td>54.6</td>\n",
       "      <td>4923562.0</td>\n",
       "      <td>4824773.0</td>\n",
       "      <td>116.3</td>\n",
       "      <td>113.9</td>\n",
       "      <td>Hotel</td>\n",
       "      <td>Hotel</td>\n",
       "      <td>88434.0</td>\n",
       "      <td>NaN</td>\n",
       "      <td>NaN</td>\n",
       "      <td>NaN</td>\n",
       "      <td>NaN</td>\n",
       "      <td>801392</td>\n",
       "      <td>1457837</td>\n",
       "      <td>6326</td>\n",
       "      <td>Compliant</td>\n",
       "      <td>No Issue</td>\n",
       "      <td>2734351.0</td>\n",
       "      <td>632586.0</td>\n",
       "      <td>169.1</td>\n",
       "      <td>1.9</td>\n",
       "    </tr>\n",
       "    <tr>\n",
       "      <th>1</th>\n",
       "      <td>2</td>\n",
       "      <td>2020</td>\n",
       "      <td>PARAMOUNT HOTEL</td>\n",
       "      <td>NonResidential</td>\n",
       "      <td>0659000220</td>\n",
       "      <td>724 PINE ST</td>\n",
       "      <td>SEATTLE</td>\n",
       "      <td>WA</td>\n",
       "      <td>98101.0</td>\n",
       "      <td>47.61317</td>\n",
       "      <td>-122.33393</td>\n",
       "      <td>DOWNTOWN</td>\n",
       "      <td>1.0</td>\n",
       "      <td>1996</td>\n",
       "      <td>11</td>\n",
       "      <td>1</td>\n",
       "      <td>103566</td>\n",
       "      <td>88502</td>\n",
       "      <td>15064</td>\n",
       "      <td>99.0</td>\n",
       "      <td>40.7</td>\n",
       "      <td>40.7</td>\n",
       "      <td>3601694.0</td>\n",
       "      <td>3601694.0</td>\n",
       "      <td>81.1</td>\n",
       "      <td>81.1</td>\n",
       "      <td>Hotel</td>\n",
       "      <td>Hotel</td>\n",
       "      <td>88502.0</td>\n",
       "      <td>Parking</td>\n",
       "      <td>15064.0</td>\n",
       "      <td>Restaurant</td>\n",
       "      <td>4622.0</td>\n",
       "      <td>568667</td>\n",
       "      <td>0</td>\n",
       "      <td>16614</td>\n",
       "      <td>Compliant</td>\n",
       "      <td>No Issue</td>\n",
       "      <td>1940292.0</td>\n",
       "      <td>1661402.0</td>\n",
       "      <td>98.6</td>\n",
       "      <td>1.1</td>\n",
       "    </tr>\n",
       "    <tr>\n",
       "      <th>2</th>\n",
       "      <td>3</td>\n",
       "      <td>2020</td>\n",
       "      <td>WESTIN HOTEL (Parent Building)</td>\n",
       "      <td>NonResidential</td>\n",
       "      <td>0659000475</td>\n",
       "      <td>1900 5TH AVE</td>\n",
       "      <td>SEATTLE</td>\n",
       "      <td>WA</td>\n",
       "      <td>98101.0</td>\n",
       "      <td>47.61367</td>\n",
       "      <td>-122.33822</td>\n",
       "      <td>DOWNTOWN</td>\n",
       "      <td>1.0</td>\n",
       "      <td>1969</td>\n",
       "      <td>41</td>\n",
       "      <td>3</td>\n",
       "      <td>956110</td>\n",
       "      <td>759392</td>\n",
       "      <td>196718</td>\n",
       "      <td>98.0</td>\n",
       "      <td>44.1</td>\n",
       "      <td>44.1</td>\n",
       "      <td>36772776.0</td>\n",
       "      <td>36772776.0</td>\n",
       "      <td>101.7</td>\n",
       "      <td>101.7</td>\n",
       "      <td>Hotel</td>\n",
       "      <td>Hotel</td>\n",
       "      <td>834705.0</td>\n",
       "      <td>Parking</td>\n",
       "      <td>120545.0</td>\n",
       "      <td>Swimming Pool</td>\n",
       "      <td>0.0</td>\n",
       "      <td>7478716</td>\n",
       "      <td>10359896</td>\n",
       "      <td>8955</td>\n",
       "      <td>Compliant</td>\n",
       "      <td>No Issue</td>\n",
       "      <td>25517379.0</td>\n",
       "      <td>895500.0</td>\n",
       "      <td>1043.2</td>\n",
       "      <td>1.4</td>\n",
       "    </tr>\n",
       "    <tr>\n",
       "      <th>3</th>\n",
       "      <td>5</td>\n",
       "      <td>2020</td>\n",
       "      <td>HOTEL MAX</td>\n",
       "      <td>NonResidential</td>\n",
       "      <td>0659000640</td>\n",
       "      <td>620 STEWART ST</td>\n",
       "      <td>SEATTLE</td>\n",
       "      <td>WA</td>\n",
       "      <td>98101.0</td>\n",
       "      <td>47.61412</td>\n",
       "      <td>-122.33664</td>\n",
       "      <td>DOWNTOWN</td>\n",
       "      <td>1.0</td>\n",
       "      <td>1926</td>\n",
       "      <td>10</td>\n",
       "      <td>1</td>\n",
       "      <td>61320</td>\n",
       "      <td>61320</td>\n",
       "      <td>0</td>\n",
       "      <td>97.0</td>\n",
       "      <td>48.6</td>\n",
       "      <td>48.6</td>\n",
       "      <td>2982710.0</td>\n",
       "      <td>2982710.0</td>\n",
       "      <td>87.0</td>\n",
       "      <td>87.0</td>\n",
       "      <td>Hotel</td>\n",
       "      <td>Hotel</td>\n",
       "      <td>61320.0</td>\n",
       "      <td>NaN</td>\n",
       "      <td>NaN</td>\n",
       "      <td>NaN</td>\n",
       "      <td>NaN</td>\n",
       "      <td>345231</td>\n",
       "      <td>917724</td>\n",
       "      <td>8871</td>\n",
       "      <td>Compliant</td>\n",
       "      <td>No Issue</td>\n",
       "      <td>1177927.0</td>\n",
       "      <td>887059.0</td>\n",
       "      <td>129.6</td>\n",
       "      <td>2.1</td>\n",
       "    </tr>\n",
       "    <tr>\n",
       "      <th>4</th>\n",
       "      <td>8</td>\n",
       "      <td>2020</td>\n",
       "      <td>WARWICK SEATTLE HOTEL</td>\n",
       "      <td>NonResidential</td>\n",
       "      <td>0659000970</td>\n",
       "      <td>401 LENORA ST</td>\n",
       "      <td>SEATTLE</td>\n",
       "      <td>WA</td>\n",
       "      <td>98121.0</td>\n",
       "      <td>47.61375</td>\n",
       "      <td>-122.34047</td>\n",
       "      <td>DOWNTOWN</td>\n",
       "      <td>1.0</td>\n",
       "      <td>1980</td>\n",
       "      <td>18</td>\n",
       "      <td>1</td>\n",
       "      <td>175580</td>\n",
       "      <td>113580</td>\n",
       "      <td>62000</td>\n",
       "      <td>98.0</td>\n",
       "      <td>67.8</td>\n",
       "      <td>67.8</td>\n",
       "      <td>8364978.0</td>\n",
       "      <td>8364978.0</td>\n",
       "      <td>124.5</td>\n",
       "      <td>124.5</td>\n",
       "      <td>Hotel</td>\n",
       "      <td>Hotel</td>\n",
       "      <td>123445.0</td>\n",
       "      <td>Parking</td>\n",
       "      <td>68009.0</td>\n",
       "      <td>Swimming Pool</td>\n",
       "      <td>0.0</td>\n",
       "      <td>1102452</td>\n",
       "      <td>0</td>\n",
       "      <td>46034</td>\n",
       "      <td>Compliant</td>\n",
       "      <td>No Issue</td>\n",
       "      <td>3761566.0</td>\n",
       "      <td>4603411.0</td>\n",
       "      <td>264.5</td>\n",
       "      <td>2.3</td>\n",
       "    </tr>\n",
       "  </tbody>\n",
       "</table>\n",
       "</div>"
      ],
      "text/plain": [
       "   OSEBuildingID  DataYear                    BuildingName    BuildingType  \\\n",
       "0              1      2020            MAYFLOWER PARK HOTEL  NonResidential   \n",
       "1              2      2020                 PARAMOUNT HOTEL  NonResidential   \n",
       "2              3      2020  WESTIN HOTEL (Parent Building)  NonResidential   \n",
       "3              5      2020                       HOTEL MAX  NonResidential   \n",
       "4              8      2020           WARWICK SEATTLE HOTEL  NonResidential   \n",
       "\n",
       "  TaxParcelIdentificationNumber         Address     City State  ZipCode  \\\n",
       "0                    0659000030   405 OLIVE WAY  SEATTLE    WA  98101.0   \n",
       "1                    0659000220     724 PINE ST  SEATTLE    WA  98101.0   \n",
       "2                    0659000475    1900 5TH AVE  SEATTLE    WA  98101.0   \n",
       "3                    0659000640  620 STEWART ST  SEATTLE    WA  98101.0   \n",
       "4                    0659000970   401 LENORA ST  SEATTLE    WA  98121.0   \n",
       "\n",
       "   Latitude  Longitude Neighborhood  CouncilDistrictCode  YearBuilt  \\\n",
       "0  47.61220 -122.33799     DOWNTOWN                  1.0       1927   \n",
       "1  47.61317 -122.33393     DOWNTOWN                  1.0       1996   \n",
       "2  47.61367 -122.33822     DOWNTOWN                  1.0       1969   \n",
       "3  47.61412 -122.33664     DOWNTOWN                  1.0       1926   \n",
       "4  47.61375 -122.34047     DOWNTOWN                  1.0       1980   \n",
       "\n",
       "   NumberofFloors  NumberofBuildings  PropertyGFATotal  \\\n",
       "0              12                  1             88434   \n",
       "1              11                  1            103566   \n",
       "2              41                  3            956110   \n",
       "3              10                  1             61320   \n",
       "4              18                  1            175580   \n",
       "\n",
       "   PropertyGFABuilding(s)  PropertyGFAParking  ENERGYSTARScore  \\\n",
       "0                   88434                   0             92.0   \n",
       "1                   88502               15064             99.0   \n",
       "2                  759392              196718             98.0   \n",
       "3                   61320                   0             97.0   \n",
       "4                  113580               62000             98.0   \n",
       "\n",
       "   SiteEUIWN(kBtu/sf)  SiteEUI(kBtu/sf)  SiteEnergyUse(kBtu)  \\\n",
       "0                55.7              54.6            4923562.0   \n",
       "1                40.7              40.7            3601694.0   \n",
       "2                44.1              44.1           36772776.0   \n",
       "3                48.6              48.6            2982710.0   \n",
       "4                67.8              67.8            8364978.0   \n",
       "\n",
       "   SiteEnergyUseWN(kBtu)  SourceEUIWN(kBtu/sf)  SourceEUI(kBtu/sf)  \\\n",
       "0              4824773.0                 116.3               113.9   \n",
       "1              3601694.0                  81.1                81.1   \n",
       "2             36772776.0                 101.7               101.7   \n",
       "3              2982710.0                  87.0                87.0   \n",
       "4              8364978.0                 124.5               124.5   \n",
       "\n",
       "  EPAPropertyType LargestPropertyUseType  LargestPropertyUseTypeGFA  \\\n",
       "0           Hotel                  Hotel                    88434.0   \n",
       "1           Hotel                  Hotel                    88502.0   \n",
       "2           Hotel                  Hotel                   834705.0   \n",
       "3           Hotel                  Hotel                    61320.0   \n",
       "4           Hotel                  Hotel                   123445.0   \n",
       "\n",
       "  SecondLargestPropertyUseType  SecondLargestPropertyUseTypeGFA  \\\n",
       "0                          NaN                              NaN   \n",
       "1                      Parking                          15064.0   \n",
       "2                      Parking                         120545.0   \n",
       "3                          NaN                              NaN   \n",
       "4                      Parking                          68009.0   \n",
       "\n",
       "  ThirdLargestPropertyUseType  ThirdLargestPropertyUseTypeGFA  \\\n",
       "0                         NaN                             NaN   \n",
       "1                  Restaurant                          4622.0   \n",
       "2               Swimming Pool                             0.0   \n",
       "3                         NaN                             NaN   \n",
       "4               Swimming Pool                             0.0   \n",
       "\n",
       "   Electricity(kWh)  SteamUse(kBtu)  NaturalGas(therms) ComplianceStatus  \\\n",
       "0            801392         1457837                6326        Compliant   \n",
       "1            568667               0               16614        Compliant   \n",
       "2           7478716        10359896                8955        Compliant   \n",
       "3            345231          917724                8871        Compliant   \n",
       "4           1102452               0               46034        Compliant   \n",
       "\n",
       "  ComplianceIssue  Electricity(kBtu)  NaturalGas(kBtu)  TotalGHGEmissions  \\\n",
       "0        No Issue          2734351.0          632586.0              169.1   \n",
       "1        No Issue          1940292.0         1661402.0               98.6   \n",
       "2        No Issue         25517379.0          895500.0             1043.2   \n",
       "3        No Issue          1177927.0          887059.0              129.6   \n",
       "4        No Issue          3761566.0         4603411.0              264.5   \n",
       "\n",
       "   GHGEmissionsIntensity  \n",
       "0                    1.9  \n",
       "1                    1.1  \n",
       "2                    1.4  \n",
       "3                    2.1  \n",
       "4                    2.3  "
      ]
     },
     "execution_count": 4,
     "metadata": {},
     "output_type": "execute_result"
    }
   ],
   "source": [
    "mydf20.head()"
   ]
  },
  {
   "cell_type": "markdown",
   "id": "631a2f20",
   "metadata": {},
   "source": [
    "Select the columns assumed helpful in predicting the building energy efficiency class"
   ]
  },
  {
   "cell_type": "code",
   "execution_count": 5,
   "id": "2df6210a",
   "metadata": {},
   "outputs": [
    {
     "data": {
      "text/plain": [
       "(3628, 10)"
      ]
     },
     "execution_count": 5,
     "metadata": {},
     "output_type": "execute_result"
    }
   ],
   "source": [
    "feature_columns = [\n",
    "    \"BuildingType\", \"Latitude\", \"Longitude\", \n",
    "    \"YearBuilt\", \"SiteEUI(kBtu/sf)\", \"PropertyGFATotal\", \n",
    "    \"Electricity(kWh)\", \"SteamUse(kBtu)\", \"NaturalGas(therms)\", \n",
    "    \"ComplianceStatus\",\n",
    "]\n",
    "\n",
    "mydf = mydf20[feature_columns]\n",
    "\n",
    "mydf.shape"
   ]
  },
  {
   "cell_type": "markdown",
   "id": "9ac99632",
   "metadata": {},
   "source": [
    "Drop empty rows"
   ]
  },
  {
   "cell_type": "code",
   "execution_count": 6,
   "id": "d8b71151",
   "metadata": {},
   "outputs": [
    {
     "data": {
      "text/plain": [
       "(3515, 10)"
      ]
     },
     "execution_count": 6,
     "metadata": {},
     "output_type": "execute_result"
    }
   ],
   "source": [
    "mydf = mydf.dropna(axis=0)\n",
    "\n",
    "mydf.shape"
   ]
  },
  {
   "cell_type": "markdown",
   "id": "773006ca",
   "metadata": {},
   "source": [
    "## Drop outliers"
   ]
  },
  {
   "cell_type": "markdown",
   "id": "9e089db0",
   "metadata": {},
   "source": [
    "The range for the outliers set to be three times of std away from the mean"
   ]
  },
  {
   "cell_type": "code",
   "execution_count": 7,
   "id": "cccf1a2a",
   "metadata": {
    "scrolled": false
   },
   "outputs": [],
   "source": [
    "# Delete outliers for: PropertyGFATotal\n",
    "upper_limit = np.ceil(mydf['PropertyGFATotal'].mean() + 3 * mydf['PropertyGFATotal'].std())\n",
    "drop_rows = mydf[mydf[\"PropertyGFATotal\"] > upper_limit].index\n",
    "mydf = mydf.drop(drop_rows)"
   ]
  },
  {
   "cell_type": "code",
   "execution_count": 8,
   "id": "59d43e7e",
   "metadata": {},
   "outputs": [],
   "source": [
    "# Delete outliers for: PropertyGFATotal\n",
    "upper_limit = np.ceil(mydf['Electricity(kWh)'].mean() + 3 * mydf['Electricity(kWh)'].std())\n",
    "drop_rows = mydf[mydf[\"Electricity(kWh)\"] > upper_limit].index\n",
    "mydf = mydf.drop(drop_rows)"
   ]
  },
  {
   "cell_type": "code",
   "execution_count": 9,
   "id": "330093dc",
   "metadata": {},
   "outputs": [],
   "source": [
    "# Delete outliers for: PropertyGFATotal\n",
    "upper_limit = np.ceil(mydf['SteamUse(kBtu)'].mean() + 3 * mydf['SteamUse(kBtu)'].std())\n",
    "drop_rows = mydf[mydf[\"SteamUse(kBtu)\"] > upper_limit].index\n",
    "mydf = mydf.drop(drop_rows)"
   ]
  },
  {
   "cell_type": "code",
   "execution_count": 10,
   "id": "0f58618d",
   "metadata": {},
   "outputs": [],
   "source": [
    "# Delete outliers for: PropertyGFATotal\n",
    "upper_limit = np.ceil(mydf['NaturalGas(therms)'].mean() + 3 * mydf['NaturalGas(therms)'].std())\n",
    "drop_rows = mydf[mydf[\"NaturalGas(therms)\"] > upper_limit].index\n",
    "mydf = mydf.drop(drop_rows)"
   ]
  },
  {
   "cell_type": "code",
   "execution_count": 11,
   "id": "c5188f7a",
   "metadata": {},
   "outputs": [
    {
     "data": {
      "text/plain": [
       "(3331, 10)"
      ]
     },
     "execution_count": 11,
     "metadata": {},
     "output_type": "execute_result"
    }
   ],
   "source": [
    "mydf.shape"
   ]
  },
  {
   "cell_type": "code",
   "execution_count": 12,
   "id": "07958b5c",
   "metadata": {},
   "outputs": [
    {
     "data": {
      "text/plain": [
       "BuildingType          0\n",
       "Latitude              0\n",
       "Longitude             0\n",
       "YearBuilt             0\n",
       "SiteEUI(kBtu/sf)      0\n",
       "PropertyGFATotal      0\n",
       "Electricity(kWh)      0\n",
       "SteamUse(kBtu)        0\n",
       "NaturalGas(therms)    0\n",
       "ComplianceStatus      0\n",
       "dtype: int64"
      ]
     },
     "execution_count": 12,
     "metadata": {},
     "output_type": "execute_result"
    }
   ],
   "source": [
    "mydf.isnull().sum()"
   ]
  },
  {
   "cell_type": "markdown",
   "id": "7f0364a0",
   "metadata": {},
   "source": [
    "Slightly improve the imbalanced form of the target variable"
   ]
  },
  {
   "cell_type": "code",
   "execution_count": 13,
   "id": "9d6e436d",
   "metadata": {},
   "outputs": [
    {
     "name": "stdout",
     "output_type": "stream",
     "text": [
      "Compliants: 0.97\n",
      "Not Compliants: 0.03\n"
     ]
    }
   ],
   "source": [
    "# Display the class distribution before the transformation\n",
    "compliants = mydf[\"ComplianceStatus\"].value_counts()[0]\n",
    "not_compliants = mydf[\"ComplianceStatus\"].value_counts()[1]\n",
    "print(f\"Compliants: {compliants/mydf.shape[0]:.2f}\")\n",
    "print(f\"Not Compliants: {not_compliants/mydf.shape[0]:.2f}\")"
   ]
  },
  {
   "cell_type": "code",
   "execution_count": 14,
   "id": "36cc6fe7",
   "metadata": {},
   "outputs": [
    {
     "name": "stdout",
     "output_type": "stream",
     "text": [
      "Compliants: 0.93\n",
      "Not Compliants: 0.07\n"
     ]
    }
   ],
   "source": [
    "# Remove 60% of the data with \"compliant\" status to balance the distribution\n",
    "mydf_reduced = mydf.drop(mydf.loc[mydf[\"ComplianceStatus\"]==\"Compliant\"].sample(frac=0.60).index)\n",
    "mydf_reduced.shape\n",
    "\n",
    "# Display the class distribution after the transformation\n",
    "compliants = mydf_reduced[\"ComplianceStatus\"].value_counts()[0]\n",
    "not_compliants = mydf_reduced[\"ComplianceStatus\"].value_counts()[1]\n",
    "print(f\"Compliants: {compliants/mydf_reduced.shape[0]:.2f}\")\n",
    "print(f\"Not Compliants: {not_compliants/mydf_reduced.shape[0]:.2f}\")"
   ]
  },
  {
   "cell_type": "code",
   "execution_count": 15,
   "id": "cecf21d5",
   "metadata": {},
   "outputs": [
    {
     "data": {
      "text/plain": [
       "Compliant        1295\n",
       "Not Compliant      93\n",
       "Name: ComplianceStatus, dtype: int64"
      ]
     },
     "execution_count": 15,
     "metadata": {},
     "output_type": "execute_result"
    }
   ],
   "source": [
    "mydf_reduced[\"ComplianceStatus\"].value_counts()"
   ]
  },
  {
   "cell_type": "markdown",
   "id": "68cc58b1",
   "metadata": {},
   "source": [
    "Save the dataset as a csv file"
   ]
  },
  {
   "cell_type": "code",
   "execution_count": 16,
   "id": "8852b062",
   "metadata": {},
   "outputs": [],
   "source": [
    "mydf_reduced.to_csv(\"reduced_data.csv\")"
   ]
  },
  {
   "cell_type": "markdown",
   "id": "b029973b",
   "metadata": {},
   "source": [
    "Save a copy of the reduced dataset and proceed with it"
   ]
  },
  {
   "cell_type": "code",
   "execution_count": 17,
   "id": "8d0a456d",
   "metadata": {},
   "outputs": [],
   "source": [
    "data = mydf_reduced.copy()"
   ]
  },
  {
   "cell_type": "markdown",
   "id": "4a52d3cc",
   "metadata": {},
   "source": [
    "Define the feaures (X) and target (y)"
   ]
  },
  {
   "cell_type": "code",
   "execution_count": 18,
   "id": "98270dab",
   "metadata": {},
   "outputs": [
    {
     "name": "stdout",
     "output_type": "stream",
     "text": [
      "Size of feature set: (1388, 16)\n",
      "Size of target: (1388,)\n"
     ]
    }
   ],
   "source": [
    "# Features\n",
    "X = data.drop(columns=[\"ComplianceStatus\"])\n",
    "# Apply encoding for the categorical variables\n",
    "X = pd.get_dummies(X)\n",
    "\n",
    "# Target\n",
    "# Transform the entries of the target varible: string >>> integer\n",
    "compliance_mapping = {\"Compliant\": 1, \"Not Compliant\": 0}\n",
    "data[\"ComplianceStatus\"] = data[\"ComplianceStatus\"].map(compliance_mapping)\n",
    "y = data[\"ComplianceStatus\"]\n",
    "\n",
    "print(\"Size of feature set:\", X.shape)\n",
    "print(\"Size of target:\", y.shape)"
   ]
  },
  {
   "cell_type": "markdown",
   "id": "95e75009",
   "metadata": {},
   "source": [
    "Split data into training and test sets. Here, the aim is to assess and improve the generalization power of a machine learning model so that we can utilize the model over not only the sample but also the population. Therefore, the model should be trained using the training set and its generalization power should be examined over the test set."
   ]
  },
  {
   "cell_type": "code",
   "execution_count": 19,
   "id": "43326493",
   "metadata": {},
   "outputs": [],
   "source": [
    "X_train, X_test, y_train, y_test = train_test_split(X, y, test_size=0.25, random_state=42)"
   ]
  },
  {
   "cell_type": "code",
   "execution_count": 20,
   "id": "b8275e55",
   "metadata": {},
   "outputs": [],
   "source": [
    "scaler = StandardScaler()  \n",
    "# Only fit training data\n",
    "scaler.fit(X_train)  \n",
    "X_train = scaler.transform(X_train)  \n",
    "# Apply same transformation to test data\n",
    "X_test = scaler.transform(X_test)"
   ]
  },
  {
   "cell_type": "markdown",
   "id": "bcb04de5",
   "metadata": {},
   "source": [
    "Collect the results of each classification models in the **report_df**"
   ]
  },
  {
   "cell_type": "code",
   "execution_count": 21,
   "id": "76049c7c",
   "metadata": {},
   "outputs": [],
   "source": [
    "report_df = pd.DataFrame()"
   ]
  },
  {
   "cell_type": "markdown",
   "id": "ac18f152",
   "metadata": {},
   "source": [
    "# 2) Building Classification Models"
   ]
  },
  {
   "cell_type": "markdown",
   "id": "bd0edb09",
   "metadata": {},
   "source": [
    "## 2.a) Classical Models"
   ]
  },
  {
   "cell_type": "markdown",
   "id": "d175acd1",
   "metadata": {},
   "source": [
    "### Support Vector Machine (SVM)"
   ]
  },
  {
   "cell_type": "code",
   "execution_count": 22,
   "id": "1a689484",
   "metadata": {},
   "outputs": [
    {
     "name": "stdout",
     "output_type": "stream",
     "text": [
      "Fitting 5 folds for each of 280 candidates, totalling 1400 fits\n"
     ]
    }
   ],
   "source": [
    "# Initiate the model\n",
    "svc = SVC(probability=True, class_weight=\"balanced\", random_state=42)\n",
    "\n",
    "# Creating a gridsearch model to detect to optimal parameters:\n",
    "\n",
    "grid_params = {\"C\": [0.01, 0.05, 0.1, 0.5, 1.0], \"kernel\": ['linear', 'poly', 'rbf', 'sigmoid'], \n",
    "               \"degree\": [2, 3, 4, 5, 6, 7, 8], \"gamma\": [\"scale\", \"auto\"]}\n",
    "\n",
    "start = timeit.default_timer()\n",
    "\n",
    "grid_search = GridSearchCV(svc, grid_params, verbose=1, cv=5, n_jobs=-1)\n",
    "\n",
    "grid_search.fit(X_train, y_train)\n",
    "\n",
    "stop = timeit.default_timer()\n",
    "svc_time = stop - start"
   ]
  },
  {
   "cell_type": "code",
   "execution_count": 23,
   "id": "5be3b4b1",
   "metadata": {},
   "outputs": [
    {
     "name": "stdout",
     "output_type": "stream",
     "text": [
      "SVC(C=0.01, class_weight='balanced', degree=2, probability=True,\n",
      "    random_state=42)\n",
      "0.7576186970923813\n"
     ]
    }
   ],
   "source": [
    "# According to the results of GridSearch, the best estimation parameters are and the score are:\n",
    "print(grid_search.best_estimator_)\n",
    "print(grid_search.best_score_)"
   ]
  },
  {
   "cell_type": "code",
   "execution_count": 24,
   "id": "7a3b1ea0",
   "metadata": {},
   "outputs": [],
   "source": [
    "# Run the model with the optimal settings displayed above:\n",
    "\n",
    "start = timeit.default_timer()\n",
    "\n",
    "svc = SVC(C=0.01, degree=2, probability=True, random_state=42)\n",
    "\n",
    "svc.fit(X_train, y_train)\n",
    "\n",
    "stop = timeit.default_timer()\n",
    "svc_time = stop - start"
   ]
  },
  {
   "cell_type": "code",
   "execution_count": 25,
   "id": "22ce9365",
   "metadata": {},
   "outputs": [],
   "source": [
    "svc_results = {\"Classifier\": \"Support Vector Machine\", \n",
    "               \"Time (seconds)\": \"{:e}\".format(svc_time), \n",
    "               \"Accuracy\": accuracy_score(y_test, svc.predict(X_test)), \n",
    "               \"Balanced Accuracy\": balanced_accuracy_score(y_test, svc.predict(X_test)),\n",
    "               \"Precision\": precision_score(y_test, svc.predict(X_test)),\n",
    "               \"Recall\": recall_score(y_test, svc.predict(X_test)),\n",
    "               \"ROC-AUC Score \": roc_auc_score(y_test, svc.predict(X_test)),\n",
    "               \"F1-Score\": f1_score(y_test, svc.predict(X_test)), \n",
    "               \"Brier Score\": brier_score_loss(y_test, svc.predict_proba(X_test)[:, 0]),\n",
    "              }\n",
    "              \n",
    "report_df = report_df.append(svc_results, ignore_index=True, sort=True)"
   ]
  },
  {
   "cell_type": "markdown",
   "id": "66e97160",
   "metadata": {},
   "source": [
    "### Gaussian Naive Bayes"
   ]
  },
  {
   "cell_type": "code",
   "execution_count": 26,
   "id": "e9f3f0c8",
   "metadata": {},
   "outputs": [],
   "source": [
    "# Split data into train (training + validation) and test sets once more for the Naive Bayes models\n",
    "X_train, X_test, y_train, y_test = train_test_split(X, y, test_size=0.25, random_state=42)"
   ]
  },
  {
   "cell_type": "code",
   "execution_count": 27,
   "id": "ddaee51b",
   "metadata": {},
   "outputs": [],
   "source": [
    "# Use MinMaxScaler to perform Bayes estimation\n",
    "# since some models cannot work with negative values\n",
    "scaler = MinMaxScaler()  \n",
    "# Only fit training data\n",
    "scaler.fit(X_train)  \n",
    "X_train = scaler.transform(X_train)  \n",
    "# Apply same transformation to test data\n",
    "X_test = scaler.transform(X_test)"
   ]
  },
  {
   "cell_type": "code",
   "execution_count": 28,
   "id": "56e6f007",
   "metadata": {
    "scrolled": false
   },
   "outputs": [
    {
     "name": "stdout",
     "output_type": "stream",
     "text": [
      "F1-Score for gaussian_nb: 0.136\n",
      "Brier Score for gaussian_nb: 0.882\n",
      "F1-Score for complement_nb: 0.557\n",
      "Brier Score for complement_nb: 0.591\n",
      "F1-Score for multinomial_nb: 0.975\n",
      "Brier Score for multinomial_nb: 0.049\n"
     ]
    }
   ],
   "source": [
    "# Initiate the model\n",
    "gaussian_nb = GaussianNB()\n",
    "gaussian_nb.fit(X_train, y_train)\n",
    "gaussian_f1 = f1_score(y_test, gaussian_nb.predict(X_test))\n",
    "gaussian_brier = brier_score_loss(y_test, gaussian_nb.predict(X_test))\n",
    "print(f\"F1-Score for gaussian_nb: {gaussian_f1:.3f}\")\n",
    "print(f\"Brier Score for gaussian_nb: {gaussian_brier:.3f}\")\n",
    "\n",
    "complement_nb = ComplementNB()\n",
    "complement_nb.fit(X_train, y_train)\n",
    "complement_f1 = f1_score(y_test, complement_nb.predict(X_test))\n",
    "complement_brier = brier_score_loss(y_test, complement_nb.predict(X_test))\n",
    "print(f\"F1-Score for complement_nb: {complement_f1:.3f}\")\n",
    "print(f\"Brier Score for complement_nb: {complement_brier:.3f}\")\n",
    "\n",
    "multi_nb = MultinomialNB()\n",
    "multi_nb.fit(X_train, y_train)\n",
    "multi_f1 = f1_score(y_test, multi_nb.predict(X_test))\n",
    "multi_brier = brier_score_loss(y_test, multi_nb.predict(X_test))\n",
    "print(f\"F1-Score for multinomial_nb: {multi_f1:.3f}\")\n",
    "print(f\"Brier Score for multinomial_nb: {multi_brier:.3f}\")"
   ]
  },
  {
   "cell_type": "code",
   "execution_count": 29,
   "id": "25079972",
   "metadata": {},
   "outputs": [],
   "source": [
    "# Multinomial Naive Bayes Classifier is selected for the rest of the study\n",
    "# according to the above results\n",
    "\n",
    "start = timeit.default_timer()\n",
    "\n",
    "multi_nb = ComplementNB()\n",
    "multi_nb.fit(X_train, y_train)\n",
    "\n",
    "stop = timeit.default_timer()\n",
    "nb_time = stop - start"
   ]
  },
  {
   "cell_type": "code",
   "execution_count": 30,
   "id": "66d5d424",
   "metadata": {},
   "outputs": [],
   "source": [
    "nb_results = {\n",
    "    \"Classifier\": \"Multinomial Naive Bayes\", \n",
    "    \"Time (seconds)\": \"{:e}\".format(nb_time), \n",
    "    \"Accuracy\": accuracy_score(y_test, multi_nb.predict(X_test)), \n",
    "    \"Balanced Accuracy\": balanced_accuracy_score(y_test, multi_nb.predict(X_test)),\n",
    "    \"Precision\": precision_score(y_test, multi_nb.predict(X_test)),\n",
    "    \"Recall\": recall_score(y_test, multi_nb.predict(X_test)),\n",
    "    \"ROC-AUC Score \": roc_auc_score(y_test, multi_nb.predict(X_test)),\n",
    "    \"F1-Score\": f1_score(y_test, multi_nb.predict(X_test)), \n",
    "    \"Brier Score\": brier_score_loss(y_test, multi_nb.predict_proba(X_test)[:, 0]),\n",
    "}\n",
    "\n",
    "report_df = report_df.append(nb_results, ignore_index=True, sort=True)"
   ]
  },
  {
   "cell_type": "markdown",
   "id": "c55425c4",
   "metadata": {},
   "source": [
    "Before moving with the other classifiers, lets use StandardScaler once more for the rest of the study"
   ]
  },
  {
   "cell_type": "code",
   "execution_count": 31,
   "id": "da687013",
   "metadata": {},
   "outputs": [],
   "source": [
    "# Split data into train (training + validation) and test sets:\n",
    "\n",
    "X_train, X_test, y_train, y_test = train_test_split(X, y, test_size=0.25, random_state=42)\n",
    "\n",
    "scaler = StandardScaler()  \n",
    "# Only fit training data\n",
    "scaler.fit(X_train)  \n",
    "X_train = scaler.transform(X_train)  \n",
    "# Apply same transformation to test data\n",
    "X_test = scaler.transform(X_test)"
   ]
  },
  {
   "cell_type": "markdown",
   "id": "a8d8bc22",
   "metadata": {},
   "source": [
    "### Logistic Regression (Logistic Discrimination)"
   ]
  },
  {
   "cell_type": "code",
   "execution_count": 32,
   "id": "cb282540",
   "metadata": {
    "scrolled": true
   },
   "outputs": [
    {
     "name": "stdout",
     "output_type": "stream",
     "text": [
      "Fitting 5 folds for each of 75 candidates, totalling 375 fits\n"
     ]
    },
    {
     "data": {
      "text/plain": [
       "GridSearchCV(cv=5, estimator=LogisticRegression(random_state=42), n_jobs=-1,\n",
       "             param_grid={'C': [0.01, 0.05, 0.1, 0.5, 1.0],\n",
       "                         'class_weight': [None, 'balanced', {0: 3, 1: 1}],\n",
       "                         'solver': ['newton-cg', 'lbfgs', 'liblinear', 'sag',\n",
       "                                    'saga']},\n",
       "             verbose=1)"
      ]
     },
     "execution_count": 32,
     "metadata": {},
     "output_type": "execute_result"
    }
   ],
   "source": [
    "# Initiate the model\n",
    "logi = LogisticRegression(random_state=42)\n",
    "\n",
    "c_list = [0.01, 0.05, 0.1, 0.5, 1.0]\n",
    "\n",
    "solver_list = [\"newton-cg\", \"lbfgs\", \"liblinear\", \"sag\", \"saga\"]\n",
    "\n",
    "weight_dict = {1: 1, 0: 3}\n",
    "weights = [None, \"balanced\", weight_dict]\n",
    "\n",
    "grid_params = {\"C\": c_list, \"solver\": solver_list, \"class_weight\": weights}\n",
    "\n",
    "grid_search = GridSearchCV(logi, grid_params, verbose=1, cv=5, n_jobs=-1)\n",
    "\n",
    "grid_search.fit(X_train, y_train)"
   ]
  },
  {
   "cell_type": "code",
   "execution_count": 33,
   "id": "3e62552b",
   "metadata": {},
   "outputs": [
    {
     "name": "stdout",
     "output_type": "stream",
     "text": [
      "LogisticRegression(C=0.01, random_state=42, solver='newton-cg')\n",
      "0.9269966875230032\n"
     ]
    }
   ],
   "source": [
    "#According to the results of GridSearch, the best estimation parameters are and the score are:\n",
    "print(grid_search.best_estimator_)\n",
    "print(grid_search.best_score_)"
   ]
  },
  {
   "cell_type": "code",
   "execution_count": 34,
   "id": "e3c610ce",
   "metadata": {},
   "outputs": [],
   "source": [
    "# Run the model with the optimal settings displayed above:\n",
    "\n",
    "start = timeit.default_timer()\n",
    "\n",
    "logi = LogisticRegression(C=0.01, solver=\"newton-cg\", random_state=42)\n",
    "\n",
    "logi.fit(X_train, y_train)\n",
    "\n",
    "stop = timeit.default_timer()\n",
    "logi_time = stop - start"
   ]
  },
  {
   "cell_type": "code",
   "execution_count": 35,
   "id": "3128f22a",
   "metadata": {},
   "outputs": [],
   "source": [
    "logi_results = {\n",
    "    \"Classifier\": \"Logistic Regression\", \n",
    "    \"Time (seconds)\": \"{:e}\".format(logi_time), \n",
    "    \"Accuracy\": accuracy_score(y_test, logi.predict(X_test)), \n",
    "    \"Balanced Accuracy\": balanced_accuracy_score(y_test, logi.predict(X_test)),\n",
    "    \"Precision\": precision_score(y_test, logi.predict(X_test)),\n",
    "    \"Recall\": recall_score(y_test, logi.predict(X_test)),\n",
    "    \"ROC-AUC Score \": roc_auc_score(y_test, logi.predict(X_test)),\n",
    "    \"F1-Score\": f1_score(y_test, logi.predict(X_test)), \n",
    "    \"Brier Score\": brier_score_loss(y_test, logi.predict_proba(X_test)[:, 0]),\n",
    "}\n",
    "              \n",
    "report_df = report_df.append(logi_results, ignore_index=True, sort=True)"
   ]
  },
  {
   "cell_type": "markdown",
   "id": "c1cf6166",
   "metadata": {},
   "source": [
    "### K-Nearest Neighbors"
   ]
  },
  {
   "cell_type": "code",
   "execution_count": 36,
   "id": "1bf280e8",
   "metadata": {},
   "outputs": [
    {
     "name": "stdout",
     "output_type": "stream",
     "text": [
      "Fitting 5 folds for each of 102 candidates, totalling 510 fits\n"
     ]
    },
    {
     "data": {
      "text/plain": [
       "GridSearchCV(cv=5, estimator=KNeighborsClassifier(), n_jobs=-1,\n",
       "             param_grid={'metric': ['euclidean', 'manhattan', 'minkowski'],\n",
       "                         'n_neighbors': [3, 4, 5, 6, 7, 8, 9, 10, 11, 12, 13,\n",
       "                                         14, 15, 16, 17, 18, 19],\n",
       "                         'weights': ['uniform', 'distance']},\n",
       "             verbose=1)"
      ]
     },
     "execution_count": 36,
     "metadata": {},
     "output_type": "execute_result"
    }
   ],
   "source": [
    "# Initiate the model\n",
    "neighbor = KNeighborsClassifier()\n",
    "\n",
    "grid_params = {\"n_neighbors\": list(range(3, 20)), \"weights\": [\"uniform\",\"distance\"], \n",
    "               \"metric\": [\"euclidean\",\"manhattan\", \"minkowski\"]}\n",
    "\n",
    "grid_search = GridSearchCV(neighbor, grid_params, verbose=1, cv=5, n_jobs=-1)\n",
    "\n",
    "grid_search.fit(X_train, y_train)"
   ]
  },
  {
   "cell_type": "code",
   "execution_count": 37,
   "id": "76c764f9",
   "metadata": {},
   "outputs": [
    {
     "name": "stdout",
     "output_type": "stream",
     "text": [
      "KNeighborsClassifier(metric='euclidean', n_neighbors=9)\n",
      "0.9269966875230032\n"
     ]
    }
   ],
   "source": [
    "# According to the results of GridSearch, the best estimation parameters are and the score are:\n",
    "\n",
    "print(grid_search.best_estimator_)\n",
    "print(grid_search.best_score_)"
   ]
  },
  {
   "cell_type": "code",
   "execution_count": 38,
   "id": "214b2633",
   "metadata": {},
   "outputs": [],
   "source": [
    "# Test the model according to the above settings:\n",
    "\n",
    "start = timeit.default_timer()\n",
    "\n",
    "neighbor = KNeighborsClassifier(n_neighbors=9, metric=\"euclidean\", weights=\"uniform\")\n",
    "\n",
    "neighbor.fit(X_train, y_train)\n",
    "\n",
    "stop = timeit.default_timer()\n",
    "neighbor_time = stop - start"
   ]
  },
  {
   "cell_type": "code",
   "execution_count": 39,
   "id": "cc0b9049",
   "metadata": {},
   "outputs": [],
   "source": [
    "neighbor_results = {\n",
    "    \"Classifier\": \"K-Nearest Neighbors\", \n",
    "    \"Time (seconds)\": \"{:e}\".format(neighbor_time), \n",
    "    \"Accuracy\": accuracy_score(y_test, neighbor.predict(X_test)), \n",
    "    \"Balanced Accuracy\": balanced_accuracy_score(y_test, neighbor.predict(X_test)),\n",
    "    \"Precision\": precision_score(y_test, neighbor.predict(X_test)),\n",
    "    \"Recall\": recall_score(y_test, neighbor.predict(X_test)),\n",
    "    \"ROC-AUC Score \": roc_auc_score(y_test, neighbor.predict(X_test)),\n",
    "    \"F1-Score\": f1_score(y_test, neighbor.predict(X_test)), \n",
    "    \"Brier Score\": brier_score_loss(y_test, neighbor.predict_proba(X_test)[:, 0]),\n",
    "}\n",
    "              \n",
    "report_df = report_df.append(neighbor_results, ignore_index=True, sort=True)"
   ]
  },
  {
   "cell_type": "markdown",
   "id": "04467efd",
   "metadata": {},
   "source": [
    "### Decision Tree Classifier"
   ]
  },
  {
   "cell_type": "code",
   "execution_count": 40,
   "id": "93174d8b",
   "metadata": {},
   "outputs": [
    {
     "name": "stdout",
     "output_type": "stream",
     "text": [
      "Fitting 5 folds for each of 12 candidates, totalling 60 fits\n"
     ]
    },
    {
     "data": {
      "text/plain": [
       "GridSearchCV(cv=5, estimator=DecisionTreeClassifier(random_state=42), n_jobs=-1,\n",
       "             param_grid={'class_weight': [None, 'balanced', {0: 3, 1: 1}],\n",
       "                         'criterion': ['gini', 'entropy'],\n",
       "                         'splitter': ['best', 'random']},\n",
       "             verbose=1)"
      ]
     },
     "execution_count": 40,
     "metadata": {},
     "output_type": "execute_result"
    }
   ],
   "source": [
    "# Initiate the model\n",
    "tree = DecisionTreeClassifier(random_state=42)\n",
    "\n",
    "criterions = [\"gini\", \"entropy\"]\n",
    "\n",
    "splitters = [\"best\", \"random\"]\n",
    "\n",
    "weight_dict = {1: 1, 0: 3}\n",
    "\n",
    "class_weights = [None, \"balanced\", weight_dict]\n",
    "\n",
    "grid_params = {\"criterion\": criterions, \n",
    "               \"splitter\": splitters, \n",
    "               \"class_weight\": class_weights}\n",
    "\n",
    "grid_search = GridSearchCV(tree, grid_params, verbose=1, cv=5, n_jobs=-1)\n",
    "\n",
    "grid_search.fit(X_train, y_train)"
   ]
  },
  {
   "cell_type": "code",
   "execution_count": 41,
   "id": "ea28b2e8",
   "metadata": {},
   "outputs": [
    {
     "name": "stdout",
     "output_type": "stream",
     "text": [
      "DecisionTreeClassifier(class_weight='balanced', criterion='entropy',\n",
      "                       random_state=42)\n",
      "0.8799365108575635\n"
     ]
    }
   ],
   "source": [
    "# According to the results of GridSearch, the best estimation parameters are and the score are:\n",
    "print(grid_search.best_estimator_)\n",
    "print(grid_search.best_score_)"
   ]
  },
  {
   "cell_type": "code",
   "execution_count": 42,
   "id": "38a92bfa",
   "metadata": {},
   "outputs": [],
   "source": [
    "# Test the model according to the above settings:\n",
    "\n",
    "start = timeit.default_timer()\n",
    "\n",
    "tree = DecisionTreeClassifier(class_weight=\"balanced\", criterion=\"entropy\", random_state=42)\n",
    "\n",
    "tree.fit(X_train, y_train)\n",
    "\n",
    "stop = timeit.default_timer()\n",
    "tree_time = stop - start"
   ]
  },
  {
   "cell_type": "code",
   "execution_count": 43,
   "id": "3043811f",
   "metadata": {},
   "outputs": [],
   "source": [
    "tree_results = {\n",
    "    \"Classifier\": \"Decision Tree\", \n",
    "    \"Time (seconds)\": \"{:e}\".format(tree_time), \n",
    "    \"Accuracy\": accuracy_score(y_test, tree.predict(X_test)), \n",
    "    \"Balanced Accuracy\": balanced_accuracy_score(y_test, tree.predict(X_test)),\n",
    "    \"Precision\": precision_score(y_test, tree.predict(X_test)),\n",
    "    \"Recall\": recall_score(y_test, tree.predict(X_test)),\n",
    "    \"ROC-AUC Score \": roc_auc_score(y_test, tree.predict(X_test)),\n",
    "    \"F1-Score\": f1_score(y_test, tree.predict(X_test)), \n",
    "    \"Brier Score\": brier_score_loss(y_test, tree.predict_proba(X_test)[:, 0]),\n",
    "}      \n",
    "\n",
    "report_df = report_df.append(tree_results, ignore_index=True, sort=True)"
   ]
  },
  {
   "cell_type": "markdown",
   "id": "48432035",
   "metadata": {},
   "source": [
    "### Random Forest Classifier"
   ]
  },
  {
   "cell_type": "code",
   "execution_count": 44,
   "id": "ecafd4a5",
   "metadata": {},
   "outputs": [
    {
     "name": "stdout",
     "output_type": "stream",
     "text": [
      "Fitting 5 folds for each of 728 candidates, totalling 3640 fits\n"
     ]
    },
    {
     "data": {
      "text/plain": [
       "GridSearchCV(cv=5, estimator=RandomForestClassifier(random_state=42), n_jobs=-1,\n",
       "             param_grid={'class_weight': [None, 'balanced',\n",
       "                                          'balanced_subsample', {0: 3, 1: 1}],\n",
       "                         'criterion': ['gini', 'entropy'],\n",
       "                         'n_estimators': [10, 11, 12, 13, 14, 15, 16, 17, 18,\n",
       "                                          19, 20, 21, 22, 23, 24, 25, 26, 27,\n",
       "                                          28, 29, 30, 31, 32, 33, 34, 35, 36,\n",
       "                                          37, 38, 39, ...]},\n",
       "             verbose=1)"
      ]
     },
     "execution_count": 44,
     "metadata": {},
     "output_type": "execute_result"
    }
   ],
   "source": [
    "# Initiate the model\n",
    "forest = RandomForestClassifier(random_state=42)\n",
    "\n",
    "weight_dict = {1: 1, 0: 3}\n",
    "\n",
    "class_weights = [None, \"balanced\", \"balanced_subsample\", weight_dict]\n",
    "\n",
    "grid_params = {\"n_estimators\": list(range(10,101)), \n",
    "               \"criterion\": [\"gini\", \"entropy\"], \n",
    "               \"class_weight\": class_weights}\n",
    "\n",
    "grid_search = GridSearchCV(forest, grid_params, verbose=1, cv=5, n_jobs=-1)\n",
    "\n",
    "grid_search.fit(X_train, y_train)"
   ]
  },
  {
   "cell_type": "code",
   "execution_count": 45,
   "id": "4cf2b856",
   "metadata": {},
   "outputs": [
    {
     "name": "stdout",
     "output_type": "stream",
     "text": [
      "RandomForestClassifier(n_estimators=31, random_state=42)\n",
      "0.9269966875230032\n"
     ]
    }
   ],
   "source": [
    "# According to the results of GridSearch, the best estimation parameters are and the score are:\n",
    "print(grid_search.best_estimator_)\n",
    "print(grid_search.best_score_)"
   ]
  },
  {
   "cell_type": "code",
   "execution_count": 46,
   "id": "2b28075a",
   "metadata": {},
   "outputs": [],
   "source": [
    "# Set the model according to the optimal setting and calculate the run-time:\n",
    "\n",
    "start = timeit.default_timer()\n",
    "\n",
    "forest = RandomForestClassifier(criterion='gini', n_estimators=31, random_state=42)\n",
    "\n",
    "forest.fit(X_train, y_train)\n",
    "\n",
    "stop = timeit.default_timer()\n",
    "forest_time = stop - start"
   ]
  },
  {
   "cell_type": "code",
   "execution_count": 47,
   "id": "4120223d",
   "metadata": {},
   "outputs": [],
   "source": [
    "forest_results = {\n",
    "    \"Classifier\": \"Random Forest\", \n",
    "    \"Time (seconds)\": \"{:e}\".format(forest_time), \n",
    "    \"Accuracy\": accuracy_score(y_test, forest.predict(X_test)), \n",
    "    \"Balanced Accuracy\": balanced_accuracy_score(y_test, forest.predict(X_test)),\n",
    "    \"Precision\": precision_score(y_test, forest.predict(X_test)),\n",
    "    \"Recall\": recall_score(y_test, forest.predict(X_test)),\n",
    "    \"ROC-AUC Score \": roc_auc_score(y_test, forest.predict(X_test)),\n",
    "    \"F1-Score\": f1_score(y_test, forest.predict(X_test)), \n",
    "    \"Brier Score\": brier_score_loss(y_test, forest.predict_proba(X_test)[:, 0]),\n",
    "}\n",
    "              \n",
    "report_df = report_df.append(forest_results, ignore_index=True, sort=True)"
   ]
  },
  {
   "cell_type": "markdown",
   "id": "f63996a3",
   "metadata": {},
   "source": [
    "### Classification Evaluation for Classical Models"
   ]
  },
  {
   "cell_type": "code",
   "execution_count": 48,
   "id": "85216668",
   "metadata": {},
   "outputs": [
    {
     "name": "stdout",
     "output_type": "stream",
     "text": [
      "Actual number of *Compliant* in test set: 330\n",
      "Actual number of *Not Compliant* in test set: 17\n"
     ]
    },
    {
     "data": {
      "image/png": "[encoded data removed]",
      "text/plain": [
       "<Figure size 432x288 with 2 Axes>"
      ]
     },
     "metadata": {
      "needs_background": "light"
     },
     "output_type": "display_data"
    },
    {
     "data": {
      "image/png": "[encoded data removed]",
      "text/plain": [
       "<Figure size 432x288 with 2 Axes>"
      ]
     },
     "metadata": {
      "needs_background": "light"
     },
     "output_type": "display_data"
    },
    {
     "data": {
      "image/png": "[encoded data removed]",
      "text/plain": [
       "<Figure size 432x288 with 2 Axes>"
      ]
     },
     "metadata": {
      "needs_background": "light"
     },
     "output_type": "display_data"
    },
    {
     "data": {
      "image/png": "[encoded data removed]",
      "text/plain": [
       "<Figure size 432x288 with 2 Axes>"
      ]
     },
     "metadata": {
      "needs_background": "light"
     },
     "output_type": "display_data"
    },
    {
     "data": {
      "image/png": "[encoded data removed]",
      "text/plain": [
       "<Figure size 432x288 with 2 Axes>"
      ]
     },
     "metadata": {
      "needs_background": "light"
     },
     "output_type": "display_data"
    },
    {
     "data": {
      "image/png": "[encoded data removed]",
      "text/plain": [
       "<Figure size 432x288 with 2 Axes>"
      ]
     },
     "metadata": {
      "needs_background": "light"
     },
     "output_type": "display_data"
    }
   ],
   "source": [
    "compliance_labels = [\"Compliant\", \"Not Compliant\"]\n",
    "models = [\"svc\", \"multi_nb\", \"logi\", \"neighbor\", \"tree\", \"forest\"]\n",
    "\n",
    "print(\"Actual number of *Compliant* in test set:\", y_test.value_counts()[1])\n",
    "print(\"Actual number of *Not Compliant* in test set:\", y_test.value_counts()[0])\n",
    "\n",
    "for predictor in models:\n",
    "    cm = confusion_matrix(y_test, eval(predictor).predict(X_test), labels=[1,0])\n",
    "    disp = ConfusionMatrixDisplay(confusion_matrix=cm, display_labels=compliance_labels)\n",
    "    disp.plot()\n",
    "    plt.title(predictor)\n",
    "    plt.show()"
   ]
  },
  {
   "cell_type": "markdown",
   "id": "9fccd6f1",
   "metadata": {},
   "source": [
    "Confusion matrices indicates that most of the models predicted the labels as COMPLIANT (1) where the actual label was NOT COMPLIANT (0). This is not surprising since we had an imbalanced set. Only model making a few actual prediction was the Decision Tree model. It made four safe estimates for the minority class. This is more obvious if we compare the results based on the Brier Score but not on the F1-Score."
   ]
  },
  {
   "cell_type": "markdown",
   "id": "b5a3cf1d",
   "metadata": {},
   "source": [
    "Next, we will analyze ANN in making actual predictions for imbalanced datasets. We hope to get improved results with introducing cost-sensitive lost functions to the network."
   ]
  },
  {
   "cell_type": "markdown",
   "id": "cc8712b6",
   "metadata": {},
   "source": [
    "## 2.b) Multilayer Perceptron (MLP)"
   ]
  },
  {
   "cell_type": "markdown",
   "id": "1aa41077",
   "metadata": {},
   "source": [
    "We will use another machine learning library named Pytorch to create the MLP models. "
   ]
  },
  {
   "cell_type": "markdown",
   "id": "ab08bf26",
   "metadata": {},
   "source": [
    "Import necessary libraries"
   ]
  },
  {
   "cell_type": "code",
   "execution_count": 49,
   "id": "383d7ecd",
   "metadata": {},
   "outputs": [],
   "source": [
    "import torch\n",
    "import torch.nn as nn\n",
    "import torch.nn.functional as F\n",
    "import torch.optim as optim\n",
    "import torchvision\n",
    "import torchvision.transforms as transforms"
   ]
  },
  {
   "cell_type": "code",
   "execution_count": 50,
   "id": "b21042de",
   "metadata": {},
   "outputs": [],
   "source": [
    "# Recreate the data and apply transformation\n",
    "\n",
    "# Split data into train (training + validation) and test sets:\n",
    "\n",
    "X_train, X_test, y_train, y_test = train_test_split(X, y, test_size=0.25, random_state=42)\n",
    "\n",
    "scaler = StandardScaler()  \n",
    "# Only fit training data\n",
    "scaler.fit(X_train)  \n",
    "X_train = scaler.transform(X_train)  \n",
    "# Apply same transformation to test data\n",
    "X_test = scaler.transform(X_test)"
   ]
  },
  {
   "cell_type": "markdown",
   "id": "12e1ce0f",
   "metadata": {},
   "source": [
    "### Initialization"
   ]
  },
  {
   "cell_type": "code",
   "execution_count": 51,
   "id": "c1839658",
   "metadata": {},
   "outputs": [],
   "source": [
    "# Define a neural network with Default Initialization\n",
    "# Activation: sigmoid\n",
    "\n",
    "class Net(nn.Module):\n",
    "    \n",
    "    # Constructor\n",
    "    def __init__(self, Layers):\n",
    "        super(Net, self).__init__()\n",
    "        self.hidden = nn.ModuleList()\n",
    "\n",
    "        for input_size, output_size in zip(Layers, Layers[1:]):\n",
    "            linear = nn.Linear(input_size, output_size)\n",
    "            self.hidden.append(linear)\n",
    "    \n",
    "    # Prediction\n",
    "    def forward(self, x):\n",
    "        L = len(self.hidden)\n",
    "        for (l, linear_transform) in zip(range(L), self.hidden):\n",
    "            if l < L - 1:\n",
    "                x = torch.sigmoid(linear_transform(x))\n",
    "            else:\n",
    "                x = torch.sigmoid(linear_transform(x))\n",
    "        return x"
   ]
  },
  {
   "cell_type": "code",
   "execution_count": 52,
   "id": "2fab87ff",
   "metadata": {},
   "outputs": [],
   "source": [
    "# Define a neural network with Xavier Initialization\n",
    "# Activation: sigmoid\n",
    "\n",
    "class Net_Xavier(nn.Module):\n",
    "    \n",
    "    # Constructor\n",
    "    def __init__(self, Layers):\n",
    "        super(Net_Xavier, self).__init__()\n",
    "        self.hidden = nn.ModuleList()\n",
    "\n",
    "        for input_size, output_size in zip(Layers, Layers[1:]):\n",
    "            linear = nn.Linear(input_size, output_size)\n",
    "            torch.nn.init.xavier_uniform_(linear.weight)\n",
    "            self.hidden.append(linear)\n",
    "    \n",
    "    # Prediction\n",
    "    def forward(self, x):\n",
    "        L = len(self.hidden)\n",
    "        for (l, linear_transform) in zip(range(L), self.hidden):\n",
    "            if l < L - 1:\n",
    "                x = torch.sigmoid(linear_transform(x))\n",
    "            else:\n",
    "                x = torch.sigmoid(linear_transform(x))\n",
    "        return x"
   ]
  },
  {
   "cell_type": "code",
   "execution_count": 53,
   "id": "8e46d88b",
   "metadata": {},
   "outputs": [],
   "source": [
    "# Define a neural network with Xavier Initialization\n",
    "# Activation: tanh > sigmoid\n",
    "\n",
    "class Net_Xavier_tanh(nn.Module):\n",
    "    \n",
    "    # Constructor\n",
    "    def __init__(self, Layers):\n",
    "        super(Net_Xavier_tanh, self).__init__()\n",
    "        self.hidden = nn.ModuleList()\n",
    "\n",
    "        for input_size, output_size in zip(Layers, Layers[1:]):\n",
    "            linear = nn.Linear(input_size, output_size)\n",
    "            torch.nn.init.xavier_uniform_(linear.weight)\n",
    "            self.hidden.append(linear)\n",
    "    \n",
    "    # Prediction\n",
    "    def forward(self, x):\n",
    "        L = len(self.hidden)\n",
    "        for (l, linear_transform) in zip(range(L), self.hidden):\n",
    "            if l < L - 1:\n",
    "                x = torch.tanh(linear_transform(x))\n",
    "            else:\n",
    "                x = torch.sigmoid(linear_transform(x))\n",
    "        return x"
   ]
  },
  {
   "cell_type": "code",
   "execution_count": 54,
   "id": "05e70c7d",
   "metadata": {},
   "outputs": [],
   "source": [
    "# Define a neural network with He Initialization\n",
    "# Activation: relu > sigmoid\n",
    "\n",
    "class Net_He(nn.Module):\n",
    "    \n",
    "    # Constructor\n",
    "    def __init__(self, Layers):\n",
    "        super(Net_He, self).__init__()\n",
    "        self.hidden = nn.ModuleList()\n",
    "\n",
    "        for input_size, output_size in zip(Layers, Layers[1:]):\n",
    "            linear = nn.Linear(input_size, output_size)\n",
    "            torch.nn.init.kaiming_uniform_(linear.weight, nonlinearity='relu')\n",
    "            self.hidden.append(linear)\n",
    "\n",
    "    # Prediction\n",
    "    def forward(self, x):\n",
    "        L = len(self.hidden)\n",
    "        for (l, linear_transform) in zip(range(L), self.hidden):\n",
    "            if l < L - 1:\n",
    "                x = torch.relu(linear_transform(x))\n",
    "            else:\n",
    "                x = torch.sigmoid(linear_transform(x))\n",
    "        return x"
   ]
  },
  {
   "cell_type": "code",
   "execution_count": 55,
   "id": "14b82cdd",
   "metadata": {},
   "outputs": [],
   "source": [
    "# Define a neural network with Uniform Initialization\n",
    "# Activation: relu > sigmoid\n",
    "\n",
    "class Net_Uniform(nn.Module):\n",
    "    \n",
    "    # Constructor\n",
    "    def __init__(self, Layers):\n",
    "        super(Net_Uniform, self).__init__()\n",
    "        self.hidden = nn.ModuleList()\n",
    "\n",
    "        for input_size, output_size in zip(Layers, Layers[1:]):\n",
    "            linear = nn.Linear(input_size,output_size)\n",
    "            linear.weight.data.uniform_(0, 1)\n",
    "            self.hidden.append(linear)\n",
    "    \n",
    "    # Prediction\n",
    "    def forward(self, x):\n",
    "        L = len(self.hidden)\n",
    "        for (l, linear_transform) in zip(range(L), self.hidden):\n",
    "            if l < L - 1:\n",
    "                x = torch.relu(linear_transform(x))\n",
    "            else:\n",
    "                x = torch.sigmoid(linear_transform(x))\n",
    "        return x"
   ]
  },
  {
   "cell_type": "markdown",
   "id": "3e777692",
   "metadata": {},
   "source": [
    "### Loss Functions"
   ]
  },
  {
   "cell_type": "code",
   "execution_count": 56,
   "id": "5b6bb4a2",
   "metadata": {},
   "outputs": [
    {
     "name": "stdout",
     "output_type": "stream",
     "text": [
      "One ratio: 0.933\n",
      "Zero ratio: 0.067\n"
     ]
    }
   ],
   "source": [
    "# Set some parameters according to the class distributions\n",
    "ones = y.value_counts()[1]\n",
    "zeros = y.value_counts()[0]\n",
    "data_shape = X.shape[0]\n",
    "\n",
    "zero_ratio = zeros / data_shape\n",
    "one_ratio = ones / data_shape\n",
    "\n",
    "print(f\"One ratio: {one_ratio:.3f}\")\n",
    "print(f\"Zero ratio: {zero_ratio:.3f}\")"
   ]
  },
  {
   "cell_type": "code",
   "execution_count": 57,
   "id": "535d30ac",
   "metadata": {},
   "outputs": [],
   "source": [
    "# 1) Normal Cross-Entropy\n",
    "\n",
    "class CriterionCross(nn.modules.loss._WeightedLoss):\n",
    "    def __init__(self, weight=None, reduction='mean'):\n",
    "        super(CriterionCross, self).__init__(weight, reduction=reduction)\n",
    "        self.weight = weight\n",
    "\n",
    "    def forward(self, inputs, targets):\n",
    "\n",
    "        ce_loss = F.cross_entropy(\n",
    "            inputs, \n",
    "            targets, \n",
    "            reduction=self.reduction, \n",
    "            weight=self.weight\n",
    "        )\n",
    "        return ce_loss"
   ]
  },
  {
   "cell_type": "code",
   "execution_count": 58,
   "id": "d471972f",
   "metadata": {},
   "outputs": [],
   "source": [
    "# 2) Cost-Sensitive Cross-Entropy\n",
    "\n",
    "class CostSensitive(nn.modules.loss._WeightedLoss):\n",
    "    def __init__(self, weight=None, reduction='mean'):\n",
    "        super(CostSensitive, self).__init__(weight, reduction=reduction)\n",
    "        self.weight = weight\n",
    "\n",
    "    def forward(self, inputs, targets):\n",
    "\n",
    "        ce_loss = F.cross_entropy(\n",
    "            inputs, \n",
    "            targets, \n",
    "            reduction=self.reduction, \n",
    "            weight=self.weight\n",
    "        )\n",
    "        if targets == 1:\n",
    "            sensitive_loss = ce_loss * torch.tensor(1 + zero_ratio)\n",
    "        else:\n",
    "            sensitive_loss = ce_loss * torch.tensor(1 - one_ratio)\n",
    "        return sensitive_loss"
   ]
  },
  {
   "cell_type": "code",
   "execution_count": 59,
   "id": "f455a58f",
   "metadata": {},
   "outputs": [],
   "source": [
    "# 3) Cost-Sensitive Cross-Entropy With Exponential Term\n",
    "\n",
    "class CostSensitiveExp(nn.modules.loss._WeightedLoss):\n",
    "    def __init__(self, weight=None, reduction='mean'):\n",
    "        super(CostSensitiveExp, self).__init__(weight, reduction=reduction)\n",
    "        self.weight = weight\n",
    "\n",
    "    def forward(self, inputs, targets):\n",
    "\n",
    "        ce_loss = F.cross_entropy(\n",
    "            inputs, \n",
    "            targets, \n",
    "            reduction=self.reduction, \n",
    "            weight=self.weight\n",
    "        )\n",
    "                \n",
    "        if targets == 1:\n",
    "            sensitive_loss = (ce_loss ** torch.tensor(1 + zero_ratio)).mean()\n",
    "        else:\n",
    "            sensitive_loss = (ce_loss ** torch.tensor(1 - one_ratio)).mean()\n",
    "        return sensitive_loss"
   ]
  },
  {
   "cell_type": "code",
   "execution_count": 60,
   "id": "f9178e43",
   "metadata": {},
   "outputs": [],
   "source": [
    "# 4) Focal Loss\n",
    "\n",
    "class FocalLoss(nn.modules.loss._WeightedLoss):\n",
    "    def __init__(self, weight=None, gamma=2,reduction='mean'):\n",
    "        super(FocalLoss, self).__init__(weight,reduction=reduction)\n",
    "        self.gamma = gamma\n",
    "        self.weight = weight #weight parameter will act as the alpha parameter to balance class weights\n",
    "\n",
    "    def forward(self, input, target):\n",
    "\n",
    "        ce_loss = F.cross_entropy(input, target,reduction=self.reduction,weight=self.weight)\n",
    "        pt = torch.exp(-ce_loss)\n",
    "        focal_loss = ((1 - pt) ** self.gamma * ce_loss).mean()\n",
    "        return focal_loss"
   ]
  },
  {
   "cell_type": "code",
   "execution_count": 61,
   "id": "3f4ee1b4",
   "metadata": {},
   "outputs": [],
   "source": [
    "# 5) Weighted Focal loss\n",
    "\n",
    "class WeightedFocal(nn.modules.loss._WeightedLoss):\n",
    "    def __init__(self, weight=None, gamma=2, reduction='mean'):\n",
    "        super(WeightedFocal, self).__init__(weight, reduction=reduction)\n",
    "        self.gamma = gamma\n",
    "        self.weight = weight #weight parameter will act as the alpha parameter to balance class weights\n",
    "\n",
    "    def forward(self, inputs, targets):\n",
    "\n",
    "        ce_loss = F.cross_entropy(\n",
    "            inputs, \n",
    "            targets, \n",
    "            reduction=self.reduction, \n",
    "            weight=self.weight\n",
    "        )\n",
    "        pt = torch.exp(-ce_loss)\n",
    "        if targets == 1:\n",
    "            focal_loss = ((1 - pt) ** torch.tensor(1 + zero_ratio) * ce_loss).mean()\n",
    "        else:\n",
    "            focal_loss = ((1 - pt) ** torch.tensor(1 - one_ratio) * ce_loss).mean()\n",
    "            \n",
    "        return focal_loss"
   ]
  },
  {
   "cell_type": "markdown",
   "id": "f18ae2d1",
   "metadata": {},
   "source": [
    "### Training Pipeline"
   ]
  },
  {
   "cell_type": "code",
   "execution_count": 62,
   "id": "82af88db",
   "metadata": {},
   "outputs": [],
   "source": [
    "batch_size = 1\n",
    "\n",
    "# Training Set\n",
    "X_train_batch = torch.from_numpy(X_train).float()\n",
    "y_train_batch = torch.from_numpy(y_train.values).float()\n",
    "train_ds = torch.utils.data.TensorDataset(X_train_batch, y_train_batch)\n",
    "train_dl = torch.utils.data.DataLoader(train_ds, batch_size, shuffle=True)\n",
    "\n",
    "# Test Set\n",
    "X_test_batch = torch.from_numpy(X_test).float()\n",
    "y_test_batch = torch.from_numpy(y_test.values).float()\n",
    "test_ds = torch.utils.data.TensorDataset(X_test_batch, y_test_batch)\n",
    "test_dl = torch.utils.data.DataLoader(test_ds, batch_size, shuffle=True)"
   ]
  },
  {
   "cell_type": "markdown",
   "id": "c1f9a120",
   "metadata": {},
   "source": [
    "Define a function that performs the MLP Classification: **train_mlp**"
   ]
  },
  {
   "cell_type": "code",
   "execution_count": 63,
   "id": "058a05be",
   "metadata": {},
   "outputs": [],
   "source": [
    "def train_mlp(\n",
    "    epochs=50, \n",
    "    learning_rate=5e-3,\n",
    "    loss_function=\"normal\",\n",
    "    init=\"xavier\",\n",
    "    momentum=0.7,\n",
    "):\n",
    "    start = timeit.default_timer()\n",
    "    \n",
    "    # Set the size of the neural network\n",
    "    input_size = 16\n",
    "    output_size = 2\n",
    "    hidden_size = 9\n",
    "    layers = [input_size, hidden_size, output_size]\n",
    "    \n",
    "    # Set a random seed for reproducibility\n",
    "    np.random.seed(42)\n",
    "    random.seed(42)\n",
    "    torch.manual_seed(42)\n",
    "\n",
    "    # Initialize the model    \n",
    "    if init == \"normal\":\n",
    "        model = Net(layers)\n",
    "        \n",
    "    if init == \"xavier\":\n",
    "        model = Net_Xavier(layers)\n",
    "    \n",
    "    if init == \"xavier_tanh\":\n",
    "        model = Net_Xavier_tanh(layers)\n",
    "        \n",
    "    if init == \"he_relu\":\n",
    "        model = Net_He(layers)\n",
    "        \n",
    "    if init == \"uniform_relu\":\n",
    "        model = Net_Uniform(layers)      \n",
    "        \n",
    "    # Determine an optimizer\n",
    "    optimizer = torch.optim.SGD(\n",
    "        model.parameters(), \n",
    "        lr=learning_rate,\n",
    "        momentum=momentum,\n",
    "    )\n",
    "    \n",
    "    # Select a loss function\n",
    "    if loss_function == \"normal\":\n",
    "        #criterion = CriterionCross()\n",
    "        criterion = nn.CrossEntropyLoss()\n",
    "    \n",
    "    if loss_function == \"normal_weighted\":\n",
    "        \n",
    "        from sklearn.utils.class_weight import compute_class_weight\n",
    "        class_weights = compute_class_weight(\n",
    "        class_weight=\"balanced\",\n",
    "        classes=np.unique(y),\n",
    "        y=y,\n",
    "        )\n",
    "                \n",
    "        class_weights = torch.tensor(class_weights, dtype=torch.float)\n",
    "        criterion = nn.CrossEntropyLoss(weight=class_weights, reduction='mean')\n",
    "        \n",
    "    if loss_function == \"cost_sensitive\":\n",
    "        criterion = CostSensitive()\n",
    "        \n",
    "    if loss_function == \"cost_sensitive_exp\":\n",
    "        criterion = CostSensitiveExp()\n",
    "    \n",
    "    if loss_function == \"focal_loss\":\n",
    "        criterion = FocalLoss()\n",
    "    \n",
    "    if loss_function == \"focal_weighted\":\n",
    "        criterion = WeightedFocal()\n",
    "\n",
    "    training_loss = list()\n",
    "    validation_loss = list()\n",
    "    validation_accuracy = list()\n",
    "    \n",
    "    for t in range(epochs):\n",
    "\n",
    "        running_loss = 0\n",
    "        tested_loss = 0\n",
    "\n",
    "        for x_tr, y_tr in train_dl:\n",
    "            \n",
    "            y_tr = y_tr.type(torch.LongTensor)\n",
    "            z = model(x_tr)            \n",
    "            loss = criterion(z, y_tr)\n",
    "            # Backward pass and optimizer step\n",
    "            optimizer.zero_grad()\n",
    "            loss.backward()\n",
    "            optimizer.step()\n",
    "            running_loss += loss.item()  \n",
    "\n",
    "        epoch_loss = running_loss / X_train.shape[0]\n",
    "        training_loss.append(epoch_loss)\n",
    "\n",
    "        correct_test = 0\n",
    "        for x_val, y_val in test_dl:\n",
    "            \n",
    "            y_val = y_val.type(torch.LongTensor)\n",
    "            prediction = model(x_val)\n",
    "            loss_val = criterion(prediction, y_val)\n",
    "            tested_loss += loss.item()\n",
    "            labels = torch.argmax(prediction, dim=1)\n",
    "            correct_test += torch.sum(labels == y_val).item()\n",
    "\n",
    "        accuracy_test = 100 * (correct_test / X_test.shape[0])\n",
    "        validation_accuracy.append(accuracy_test)\n",
    "        test_loss_epoch = tested_loss / X_test.shape[0]\n",
    "        validation_loss.append(test_loss_epoch)\n",
    "\n",
    "        #print(f\"EPOCH {t+1} // Loss: {epoch_loss:.4f} & Accuracy: %{accuracy_test:.4f}\")\n",
    "        \n",
    "    # Calculate the run time\n",
    "    stop = timeit.default_timer()\n",
    "    mlp_time = stop - start\n",
    "    \n",
    "    # Visualize the results\n",
    "    import matplotlib.ticker as ticker\n",
    "    fig, (ax1, ax2) = plt.subplots(1, 2, figsize=(15, 6))\n",
    "    # ax1: Loss vs. Epoch\n",
    "    ax1.plot(np.arange(1, epochs+1, step=1), training_loss, label=\"training\")\n",
    "    ax1.plot(np.arange(1, epochs+1, step=1), validation_loss, label=\"test\")\n",
    "    ax1.legend()\n",
    "    ax1.set_xlabel(\"Epoch\") \n",
    "    ax1.set_ylabel(\"Log-loss\")    \n",
    "    ax1.set_title(\"Validation Curve\")\n",
    "    # ax2: Accuracy vs. Epoch\n",
    "    ax2.plot(np.arange(1, epochs+1, step=1), validation_accuracy)\n",
    "    ax2.set_xlabel(\"Epoch\")\n",
    "    ax2.set_ylabel(\"Test Accuracy\")\n",
    "    ax2.set_title(\"Accuracy Curve\")\n",
    "    # Display figures\n",
    "    # set the spacing between subplots\n",
    "    plt.subplots_adjust(\n",
    "        left=0.1,\n",
    "        bottom=0.1, \n",
    "        right=0.9, \n",
    "        top=0.88, \n",
    "        wspace=0.2, \n",
    "        hspace=0.4,\n",
    "    )\n",
    "    plt.suptitle(\n",
    "        f\"MLP with {loss_function} loss: [epoch={epochs} & lr={learning_rate} & momentum={momentum}]\", \n",
    "        fontsize=12\n",
    "    )\n",
    "    plt.show()\n",
    "    \n",
    "    # Classification evaluation metrics\n",
    "    feed_forward = model(torch.tensor(X_test).float())\n",
    "    predicted_labels = torch.argmax(feed_forward, dim=1).detach().numpy()\n",
    "    ## Metrics\n",
    "    mlp_accuracy = accuracy_score(y_test, predicted_labels)\n",
    "    mlp_balanced_accuracy = balanced_accuracy_score(y_test, predicted_labels)\n",
    "    mlp_precision = precision_score(y_test, predicted_labels)\n",
    "    mlp_recall = recall_score(y_test, predicted_labels)\n",
    "    mlp_roc = roc_auc_score(y_test, predicted_labels)\n",
    "    mlp_f1 = f1_score(y_test, predicted_labels)\n",
    "    mlp_brier = brier_score_loss(y_test, predicted_labels)\n",
    "    ## Dataframe to display results\n",
    "    mlp_results = {\n",
    "        \"Classifier\": f\"MLP with {loss_function} loss\", \n",
    "        \"Time (seconds)\": \"{:e}\".format(mlp_time), \n",
    "        \"Accuracy\": mlp_accuracy, \n",
    "        \"Balanced Accuracy\": mlp_balanced_accuracy,\n",
    "        \"Precision\": mlp_precision,\n",
    "        \"Recall\": mlp_recall,\n",
    "        \"F1-Score\": mlp_f1, \n",
    "        \"Brier Score\": mlp_brier,\n",
    "    }\n",
    "    print(f\"The classification results for MLP with {loss_function} loss: {mlp_results}\")\n",
    "    \n",
    "    # Draw confusion matrix\n",
    "    plt.figure(figsize=(10, 10))\n",
    "    compliance_labels = [\"Compliant\", \"Not Compliant\"]\n",
    "    cm = confusion_matrix(y_test, predicted_labels, labels=[1,0])\n",
    "    disp = ConfusionMatrixDisplay(confusion_matrix=cm, display_labels=compliance_labels)\n",
    "    disp.plot()\n",
    "    plt.title(f\"MLP with {loss_function} loss function\")\n",
    "    plt.show()\n",
    "    \n",
    "    return feed_forward, mlp_results\n",
    "    \n",
    "    # END"
   ]
  },
  {
   "cell_type": "markdown",
   "id": "c311f57d",
   "metadata": {},
   "source": [
    "### Test MLP Models"
   ]
  },
  {
   "cell_type": "markdown",
   "id": "391d3318",
   "metadata": {},
   "source": [
    "1) Normal Loss"
   ]
  },
  {
   "cell_type": "code",
   "execution_count": 64,
   "id": "51bd2c46",
   "metadata": {
    "scrolled": false
   },
   "outputs": [
    {
     "data": {
      "image/png": "[encoded data removed]",
      "text/plain": [
       "<Figure size 1080x432 with 2 Axes>"
      ]
     },
     "metadata": {
      "needs_background": "light"
     },
     "output_type": "display_data"
    },
    {
     "name": "stdout",
     "output_type": "stream",
     "text": [
      "The classification results for MLP with normal loss: {'Classifier': 'MLP with normal loss', 'Time (seconds)': '7.301194e+01', 'Accuracy': 0.8559077809798271, 'Balanced Accuracy': 0.5336898395721925, 'Precision': 0.9545454545454546, 'Recall': 0.8909090909090909, 'F1-Score': 0.9216300940438871, 'Brier Score': 0.1440922190201729}\n"
     ]
    },
    {
     "data": {
      "text/plain": [
       "<Figure size 720x720 with 0 Axes>"
      ]
     },
     "metadata": {},
     "output_type": "display_data"
    },
    {
     "data": {
      "image/png": "[encoded data removed]",
      "text/plain": [
       "<Figure size 432x288 with 2 Axes>"
      ]
     },
     "metadata": {
      "needs_background": "light"
     },
     "output_type": "display_data"
    }
   ],
   "source": [
    "feed, result_dict = train_mlp(\n",
    "    epochs=79, \n",
    "    learning_rate=2e-5,\n",
    "    loss_function=\"normal\",\n",
    "    init=\"xavier_tanh\",\n",
    "    momentum=0.7,\n",
    ")\n",
    "\n",
    "# Save the results\n",
    "report_df = report_df.append(result_dict, ignore_index=True, sort=True)"
   ]
  },
  {
   "cell_type": "markdown",
   "id": "02488629",
   "metadata": {},
   "source": [
    "2) Cost-Sensitive Loss"
   ]
  },
  {
   "cell_type": "code",
   "execution_count": 65,
   "id": "648a9af8",
   "metadata": {
    "scrolled": false
   },
   "outputs": [
    {
     "data": {
      "image/png": "[encoded data removed]",
      "text/plain": [
       "<Figure size 1080x432 with 2 Axes>"
      ]
     },
     "metadata": {
      "needs_background": "light"
     },
     "output_type": "display_data"
    },
    {
     "name": "stdout",
     "output_type": "stream",
     "text": [
      "The classification results for MLP with cost_sensitive loss: {'Classifier': 'MLP with cost_sensitive loss', 'Time (seconds)': '5.236140e+01', 'Accuracy': 0.7665706051873199, 'Balanced Accuracy': 0.4867201426024956, 'Precision': 0.9494584837545126, 'Recall': 0.796969696969697, 'F1-Score': 0.8665568369028006, 'Brier Score': 0.2334293948126801}\n"
     ]
    },
    {
     "data": {
      "text/plain": [
       "<Figure size 720x720 with 0 Axes>"
      ]
     },
     "metadata": {},
     "output_type": "display_data"
    },
    {
     "data": {
      "image/png": "[encoded data removed]",
      "text/plain": [
       "<Figure size 432x288 with 2 Axes>"
      ]
     },
     "metadata": {
      "needs_background": "light"
     },
     "output_type": "display_data"
    }
   ],
   "source": [
    "feed, result_dict = train_mlp(\n",
    "    epochs=50, \n",
    "    learning_rate=2e-5,\n",
    "    loss_function=\"cost_sensitive\",\n",
    "    init=\"xavier_tanh\",\n",
    "    momentum=0.7,\n",
    ")\n",
    "\n",
    "# Save the results\n",
    "report_df = report_df.append(result_dict, ignore_index=True, sort=True)"
   ]
  },
  {
   "cell_type": "markdown",
   "id": "72e0572b",
   "metadata": {},
   "source": [
    "3) Cost-Sensitive Exponential Loss"
   ]
  },
  {
   "cell_type": "code",
   "execution_count": 66,
   "id": "227e944e",
   "metadata": {
    "scrolled": false
   },
   "outputs": [
    {
     "data": {
      "image/png": "[encoded data removed]",
      "text/plain": [
       "<Figure size 1080x432 with 2 Axes>"
      ]
     },
     "metadata": {
      "needs_background": "light"
     },
     "output_type": "display_data"
    },
    {
     "name": "stdout",
     "output_type": "stream",
     "text": [
      "The classification results for MLP with cost_sensitive_exp loss: {'Classifier': 'MLP with cost_sensitive_exp loss', 'Time (seconds)': '1.012552e+02', 'Accuracy': 0.8904899135446686, 'Balanced Accuracy': 0.5518716577540107, 'Precision': 0.95625, 'Recall': 0.9272727272727272, 'F1-Score': 0.9415384615384615, 'Brier Score': 0.10951008645533142}\n"
     ]
    },
    {
     "data": {
      "text/plain": [
       "<Figure size 720x720 with 0 Axes>"
      ]
     },
     "metadata": {},
     "output_type": "display_data"
    },
    {
     "data": {
      "image/png": "[encoded data removed]",
      "text/plain": [
       "<Figure size 432x288 with 2 Axes>"
      ]
     },
     "metadata": {
      "needs_background": "light"
     },
     "output_type": "display_data"
    }
   ],
   "source": [
    "feed, result_dict = train_mlp(\n",
    "    epochs=85, \n",
    "    learning_rate=2e-5,\n",
    "    loss_function=\"cost_sensitive_exp\",\n",
    "    init=\"xavier_tanh\",\n",
    "    momentum=0.7,\n",
    ")\n",
    "\n",
    "# Save the results\n",
    "report_df = report_df.append(result_dict, ignore_index=True, sort=True)"
   ]
  },
  {
   "cell_type": "markdown",
   "id": "c54e8209",
   "metadata": {},
   "source": [
    "4) Focal Loss"
   ]
  },
  {
   "cell_type": "code",
   "execution_count": 67,
   "id": "017d9af6",
   "metadata": {},
   "outputs": [
    {
     "data": {
      "image/png": "[encoded data removed]",
      "text/plain": [
       "<Figure size 1080x432 with 2 Axes>"
      ]
     },
     "metadata": {
      "needs_background": "light"
     },
     "output_type": "display_data"
    },
    {
     "name": "stdout",
     "output_type": "stream",
     "text": [
      "The classification results for MLP with focal_loss loss: {'Classifier': 'MLP with focal_loss loss', 'Time (seconds)': '7.681656e+01', 'Accuracy': 0.861671469740634, 'Balanced Accuracy': 0.5367201426024956, 'Precision': 0.9548387096774194, 'Recall': 0.896969696969697, 'F1-Score': 0.9249999999999999, 'Brier Score': 0.138328530259366}\n"
     ]
    },
    {
     "data": {
      "text/plain": [
       "<Figure size 720x720 with 0 Axes>"
      ]
     },
     "metadata": {},
     "output_type": "display_data"
    },
    {
     "data": {
      "image/png": "[encoded data removed]",
      "text/plain": [
       "<Figure size 432x288 with 2 Axes>"
      ]
     },
     "metadata": {
      "needs_background": "light"
     },
     "output_type": "display_data"
    }
   ],
   "source": [
    "feed, result_dict = train_mlp(\n",
    "    epochs=56, \n",
    "    learning_rate=2e-5,\n",
    "    loss_function=\"focal_loss\",\n",
    "    init=\"xavier\",\n",
    "    momentum=0.7,\n",
    ")\n",
    "\n",
    "# Save the results\n",
    "report_df = report_df.append(result_dict, ignore_index=True, sort=True)"
   ]
  },
  {
   "cell_type": "markdown",
   "id": "c9e38adc",
   "metadata": {},
   "source": [
    "5) Weighted Focal Loss"
   ]
  },
  {
   "cell_type": "code",
   "execution_count": 68,
   "id": "677b1e27",
   "metadata": {
    "scrolled": false
   },
   "outputs": [
    {
     "data": {
      "image/png": "[encoded data removed]",
      "text/plain": [
       "<Figure size 1080x432 with 2 Axes>"
      ]
     },
     "metadata": {
      "needs_background": "light"
     },
     "output_type": "display_data"
    },
    {
     "name": "stdout",
     "output_type": "stream",
     "text": [
      "The classification results for MLP with focal_weighted loss: {'Classifier': 'MLP with focal_weighted loss', 'Time (seconds)': '8.746767e+01', 'Accuracy': 0.9106628242074928, 'Balanced Accuracy': 0.5066844919786097, 'Precision': 0.9516616314199395, 'Recall': 0.9545454545454546, 'F1-Score': 0.9531013615733737, 'Brier Score': 0.0893371757925072}\n"
     ]
    },
    {
     "data": {
      "text/plain": [
       "<Figure size 720x720 with 0 Axes>"
      ]
     },
     "metadata": {},
     "output_type": "display_data"
    },
    {
     "data": {
      "image/png": "[encoded data removed]",
      "text/plain": [
       "<Figure size 432x288 with 2 Axes>"
      ]
     },
     "metadata": {
      "needs_background": "light"
     },
     "output_type": "display_data"
    }
   ],
   "source": [
    "feed, result_dict = train_mlp(\n",
    "    epochs=56, \n",
    "    learning_rate=2e-5,\n",
    "    loss_function=\"focal_weighted\",\n",
    "    init=\"xavier\",\n",
    "    momentum=0.7,\n",
    ")\n",
    "\n",
    "# Save the results\n",
    "report_df = report_df.append(result_dict, ignore_index=True, sort=True)"
   ]
  },
  {
   "cell_type": "markdown",
   "id": "f2ca242b",
   "metadata": {},
   "source": [
    "# RESULTS"
   ]
  },
  {
   "cell_type": "code",
   "execution_count": 69,
   "id": "42723d65",
   "metadata": {},
   "outputs": [
    {
     "data": {
      "text/html": [
       "<div>\n",
       "<style scoped>\n",
       "    .dataframe tbody tr th:only-of-type {\n",
       "        vertical-align: middle;\n",
       "    }\n",
       "\n",
       "    .dataframe tbody tr th {\n",
       "        vertical-align: top;\n",
       "    }\n",
       "\n",
       "    .dataframe thead th {\n",
       "        text-align: right;\n",
       "    }\n",
       "</style>\n",
       "<table border=\"1\" class=\"dataframe\">\n",
       "  <thead>\n",
       "    <tr style=\"text-align: right;\">\n",
       "      <th></th>\n",
       "      <th>Classifier</th>\n",
       "      <th>Accuracy</th>\n",
       "      <th>Balanced Accuracy</th>\n",
       "      <th>Precision</th>\n",
       "      <th>Recall</th>\n",
       "      <th>F1-Score</th>\n",
       "      <th>Brier Score</th>\n",
       "    </tr>\n",
       "  </thead>\n",
       "  <tbody>\n",
       "    <tr>\n",
       "      <th>10</th>\n",
       "      <td>MLP with focal_weighted loss</td>\n",
       "      <td>0.911</td>\n",
       "      <td>0.507</td>\n",
       "      <td>0.952</td>\n",
       "      <td>0.955</td>\n",
       "      <td>0.953</td>\n",
       "      <td>0.089</td>\n",
       "    </tr>\n",
       "    <tr>\n",
       "      <th>8</th>\n",
       "      <td>MLP with cost_sensitive_exp loss</td>\n",
       "      <td>0.890</td>\n",
       "      <td>0.552</td>\n",
       "      <td>0.956</td>\n",
       "      <td>0.927</td>\n",
       "      <td>0.942</td>\n",
       "      <td>0.110</td>\n",
       "    </tr>\n",
       "    <tr>\n",
       "      <th>9</th>\n",
       "      <td>MLP with focal_loss loss</td>\n",
       "      <td>0.862</td>\n",
       "      <td>0.537</td>\n",
       "      <td>0.955</td>\n",
       "      <td>0.897</td>\n",
       "      <td>0.925</td>\n",
       "      <td>0.138</td>\n",
       "    </tr>\n",
       "    <tr>\n",
       "      <th>6</th>\n",
       "      <td>MLP with normal loss</td>\n",
       "      <td>0.856</td>\n",
       "      <td>0.534</td>\n",
       "      <td>0.955</td>\n",
       "      <td>0.891</td>\n",
       "      <td>0.922</td>\n",
       "      <td>0.144</td>\n",
       "    </tr>\n",
       "    <tr>\n",
       "      <th>7</th>\n",
       "      <td>MLP with cost_sensitive loss</td>\n",
       "      <td>0.767</td>\n",
       "      <td>0.487</td>\n",
       "      <td>0.949</td>\n",
       "      <td>0.797</td>\n",
       "      <td>0.867</td>\n",
       "      <td>0.233</td>\n",
       "    </tr>\n",
       "    <tr>\n",
       "      <th>1</th>\n",
       "      <td>Multinomial Naive Bayes</td>\n",
       "      <td>0.409</td>\n",
       "      <td>0.578</td>\n",
       "      <td>0.970</td>\n",
       "      <td>0.391</td>\n",
       "      <td>0.557</td>\n",
       "      <td>0.283</td>\n",
       "    </tr>\n",
       "    <tr>\n",
       "      <th>0</th>\n",
       "      <td>Support Vector Machine</td>\n",
       "      <td>0.951</td>\n",
       "      <td>0.500</td>\n",
       "      <td>0.951</td>\n",
       "      <td>1.000</td>\n",
       "      <td>0.975</td>\n",
       "      <td>0.818</td>\n",
       "    </tr>\n",
       "    <tr>\n",
       "      <th>2</th>\n",
       "      <td>Logistic Regression</td>\n",
       "      <td>0.951</td>\n",
       "      <td>0.500</td>\n",
       "      <td>0.951</td>\n",
       "      <td>1.000</td>\n",
       "      <td>0.975</td>\n",
       "      <td>0.818</td>\n",
       "    </tr>\n",
       "    <tr>\n",
       "      <th>5</th>\n",
       "      <td>Random Forest</td>\n",
       "      <td>0.954</td>\n",
       "      <td>0.529</td>\n",
       "      <td>0.954</td>\n",
       "      <td>1.000</td>\n",
       "      <td>0.976</td>\n",
       "      <td>0.827</td>\n",
       "    </tr>\n",
       "    <tr>\n",
       "      <th>3</th>\n",
       "      <td>K-Nearest Neighbors</td>\n",
       "      <td>0.951</td>\n",
       "      <td>0.500</td>\n",
       "      <td>0.951</td>\n",
       "      <td>1.000</td>\n",
       "      <td>0.975</td>\n",
       "      <td>0.830</td>\n",
       "    </tr>\n",
       "    <tr>\n",
       "      <th>4</th>\n",
       "      <td>Decision Tree</td>\n",
       "      <td>0.905</td>\n",
       "      <td>0.587</td>\n",
       "      <td>0.960</td>\n",
       "      <td>0.939</td>\n",
       "      <td>0.949</td>\n",
       "      <td>0.905</td>\n",
       "    </tr>\n",
       "  </tbody>\n",
       "</table>\n",
       "</div>"
      ],
      "text/plain": [
       "                          Classifier  Accuracy  Balanced Accuracy  Precision  \\\n",
       "10      MLP with focal_weighted loss     0.911              0.507      0.952   \n",
       "8   MLP with cost_sensitive_exp loss     0.890              0.552      0.956   \n",
       "9           MLP with focal_loss loss     0.862              0.537      0.955   \n",
       "6               MLP with normal loss     0.856              0.534      0.955   \n",
       "7       MLP with cost_sensitive loss     0.767              0.487      0.949   \n",
       "1            Multinomial Naive Bayes     0.409              0.578      0.970   \n",
       "0             Support Vector Machine     0.951              0.500      0.951   \n",
       "2                Logistic Regression     0.951              0.500      0.951   \n",
       "5                      Random Forest     0.954              0.529      0.954   \n",
       "3                K-Nearest Neighbors     0.951              0.500      0.951   \n",
       "4                      Decision Tree     0.905              0.587      0.960   \n",
       "\n",
       "    Recall  F1-Score  Brier Score  \n",
       "10   0.955     0.953        0.089  \n",
       "8    0.927     0.942        0.110  \n",
       "9    0.897     0.925        0.138  \n",
       "6    0.891     0.922        0.144  \n",
       "7    0.797     0.867        0.233  \n",
       "1    0.391     0.557        0.283  \n",
       "0    1.000     0.975        0.818  \n",
       "2    1.000     0.975        0.818  \n",
       "5    1.000     0.976        0.827  \n",
       "3    1.000     0.975        0.830  \n",
       "4    0.939     0.949        0.905  "
      ]
     },
     "execution_count": 69,
     "metadata": {},
     "output_type": "execute_result"
    }
   ],
   "source": [
    "report_df = report_df[[\"Classifier\", \"Accuracy\", \n",
    "                       \"Balanced Accuracy\", \"Precision\", \"Recall\", \n",
    "                       \"F1-Score\", \"Brier Score\"]]\n",
    "\n",
    "report_df = report_df.sort_values(\"Brier Score\", ascending=True)\n",
    "report_df.round(3)"
   ]
  },
  {
   "cell_type": "code",
   "execution_count": 70,
   "id": "5f3ca2c4",
   "metadata": {},
   "outputs": [],
   "source": [
    "report_df.to_csv(\"results.csv\")"
   ]
  },
  {
   "cell_type": "code",
   "execution_count": 71,
   "id": "a1569dae",
   "metadata": {},
   "outputs": [
    {
     "data": {
      "text/html": [
       "<div>\n",
       "<style scoped>\n",
       "    .dataframe tbody tr th:only-of-type {\n",
       "        vertical-align: middle;\n",
       "    }\n",
       "\n",
       "    .dataframe tbody tr th {\n",
       "        vertical-align: top;\n",
       "    }\n",
       "\n",
       "    .dataframe thead th {\n",
       "        text-align: right;\n",
       "    }\n",
       "</style>\n",
       "<table border=\"1\" class=\"dataframe\">\n",
       "  <thead>\n",
       "    <tr style=\"text-align: right;\">\n",
       "      <th></th>\n",
       "      <th>Classifier</th>\n",
       "      <th>Accuracy</th>\n",
       "      <th>Balanced Accuracy</th>\n",
       "      <th>Precision</th>\n",
       "      <th>Recall</th>\n",
       "      <th>F1-Score</th>\n",
       "      <th>Brier Score</th>\n",
       "    </tr>\n",
       "  </thead>\n",
       "  <tbody>\n",
       "    <tr>\n",
       "      <th>4</th>\n",
       "      <td>Decision Tree</td>\n",
       "      <td>0.905</td>\n",
       "      <td>0.587</td>\n",
       "      <td>0.960</td>\n",
       "      <td>0.939</td>\n",
       "      <td>0.949</td>\n",
       "      <td>0.905</td>\n",
       "    </tr>\n",
       "    <tr>\n",
       "      <th>1</th>\n",
       "      <td>Multinomial Naive Bayes</td>\n",
       "      <td>0.409</td>\n",
       "      <td>0.578</td>\n",
       "      <td>0.970</td>\n",
       "      <td>0.391</td>\n",
       "      <td>0.557</td>\n",
       "      <td>0.283</td>\n",
       "    </tr>\n",
       "    <tr>\n",
       "      <th>8</th>\n",
       "      <td>MLP with cost_sensitive_exp loss</td>\n",
       "      <td>0.890</td>\n",
       "      <td>0.552</td>\n",
       "      <td>0.956</td>\n",
       "      <td>0.927</td>\n",
       "      <td>0.942</td>\n",
       "      <td>0.110</td>\n",
       "    </tr>\n",
       "    <tr>\n",
       "      <th>9</th>\n",
       "      <td>MLP with focal_loss loss</td>\n",
       "      <td>0.862</td>\n",
       "      <td>0.537</td>\n",
       "      <td>0.955</td>\n",
       "      <td>0.897</td>\n",
       "      <td>0.925</td>\n",
       "      <td>0.138</td>\n",
       "    </tr>\n",
       "    <tr>\n",
       "      <th>6</th>\n",
       "      <td>MLP with normal loss</td>\n",
       "      <td>0.856</td>\n",
       "      <td>0.534</td>\n",
       "      <td>0.955</td>\n",
       "      <td>0.891</td>\n",
       "      <td>0.922</td>\n",
       "      <td>0.144</td>\n",
       "    </tr>\n",
       "    <tr>\n",
       "      <th>5</th>\n",
       "      <td>Random Forest</td>\n",
       "      <td>0.954</td>\n",
       "      <td>0.529</td>\n",
       "      <td>0.954</td>\n",
       "      <td>1.000</td>\n",
       "      <td>0.976</td>\n",
       "      <td>0.827</td>\n",
       "    </tr>\n",
       "    <tr>\n",
       "      <th>10</th>\n",
       "      <td>MLP with focal_weighted loss</td>\n",
       "      <td>0.911</td>\n",
       "      <td>0.507</td>\n",
       "      <td>0.952</td>\n",
       "      <td>0.955</td>\n",
       "      <td>0.953</td>\n",
       "      <td>0.089</td>\n",
       "    </tr>\n",
       "    <tr>\n",
       "      <th>0</th>\n",
       "      <td>Support Vector Machine</td>\n",
       "      <td>0.951</td>\n",
       "      <td>0.500</td>\n",
       "      <td>0.951</td>\n",
       "      <td>1.000</td>\n",
       "      <td>0.975</td>\n",
       "      <td>0.818</td>\n",
       "    </tr>\n",
       "    <tr>\n",
       "      <th>2</th>\n",
       "      <td>Logistic Regression</td>\n",
       "      <td>0.951</td>\n",
       "      <td>0.500</td>\n",
       "      <td>0.951</td>\n",
       "      <td>1.000</td>\n",
       "      <td>0.975</td>\n",
       "      <td>0.818</td>\n",
       "    </tr>\n",
       "    <tr>\n",
       "      <th>3</th>\n",
       "      <td>K-Nearest Neighbors</td>\n",
       "      <td>0.951</td>\n",
       "      <td>0.500</td>\n",
       "      <td>0.951</td>\n",
       "      <td>1.000</td>\n",
       "      <td>0.975</td>\n",
       "      <td>0.830</td>\n",
       "    </tr>\n",
       "    <tr>\n",
       "      <th>7</th>\n",
       "      <td>MLP with cost_sensitive loss</td>\n",
       "      <td>0.767</td>\n",
       "      <td>0.487</td>\n",
       "      <td>0.949</td>\n",
       "      <td>0.797</td>\n",
       "      <td>0.867</td>\n",
       "      <td>0.233</td>\n",
       "    </tr>\n",
       "  </tbody>\n",
       "</table>\n",
       "</div>"
      ],
      "text/plain": [
       "                          Classifier  Accuracy  Balanced Accuracy  Precision  \\\n",
       "4                      Decision Tree     0.905              0.587      0.960   \n",
       "1            Multinomial Naive Bayes     0.409              0.578      0.970   \n",
       "8   MLP with cost_sensitive_exp loss     0.890              0.552      0.956   \n",
       "9           MLP with focal_loss loss     0.862              0.537      0.955   \n",
       "6               MLP with normal loss     0.856              0.534      0.955   \n",
       "5                      Random Forest     0.954              0.529      0.954   \n",
       "10      MLP with focal_weighted loss     0.911              0.507      0.952   \n",
       "0             Support Vector Machine     0.951              0.500      0.951   \n",
       "2                Logistic Regression     0.951              0.500      0.951   \n",
       "3                K-Nearest Neighbors     0.951              0.500      0.951   \n",
       "7       MLP with cost_sensitive loss     0.767              0.487      0.949   \n",
       "\n",
       "    Recall  F1-Score  Brier Score  \n",
       "4    0.939     0.949        0.905  \n",
       "1    0.391     0.557        0.283  \n",
       "8    0.927     0.942        0.110  \n",
       "9    0.897     0.925        0.138  \n",
       "6    0.891     0.922        0.144  \n",
       "5    1.000     0.976        0.827  \n",
       "10   0.955     0.953        0.089  \n",
       "0    1.000     0.975        0.818  \n",
       "2    1.000     0.975        0.818  \n",
       "3    1.000     0.975        0.830  \n",
       "7    0.797     0.867        0.233  "
      ]
     },
     "execution_count": 71,
     "metadata": {},
     "output_type": "execute_result"
    }
   ],
   "source": [
    "report_df.sort_values(\"Balanced Accuracy\", ascending=False).round(3)"
   ]
  },
  {
   "cell_type": "code",
   "execution_count": 72,
   "id": "c2bce111",
   "metadata": {
    "scrolled": true
   },
   "outputs": [
    {
     "data": {
      "text/html": [
       "<div>\n",
       "<style scoped>\n",
       "    .dataframe tbody tr th:only-of-type {\n",
       "        vertical-align: middle;\n",
       "    }\n",
       "\n",
       "    .dataframe tbody tr th {\n",
       "        vertical-align: top;\n",
       "    }\n",
       "\n",
       "    .dataframe thead th {\n",
       "        text-align: right;\n",
       "    }\n",
       "</style>\n",
       "<table border=\"1\" class=\"dataframe\">\n",
       "  <thead>\n",
       "    <tr style=\"text-align: right;\">\n",
       "      <th></th>\n",
       "      <th>Classifier</th>\n",
       "      <th>Accuracy</th>\n",
       "      <th>Balanced Accuracy</th>\n",
       "      <th>Precision</th>\n",
       "      <th>Recall</th>\n",
       "      <th>F1-Score</th>\n",
       "      <th>Brier Score</th>\n",
       "    </tr>\n",
       "  </thead>\n",
       "  <tbody>\n",
       "    <tr>\n",
       "      <th>5</th>\n",
       "      <td>Random Forest</td>\n",
       "      <td>0.954</td>\n",
       "      <td>0.529</td>\n",
       "      <td>0.954</td>\n",
       "      <td>1.000</td>\n",
       "      <td>0.976</td>\n",
       "      <td>0.827</td>\n",
       "    </tr>\n",
       "    <tr>\n",
       "      <th>0</th>\n",
       "      <td>Support Vector Machine</td>\n",
       "      <td>0.951</td>\n",
       "      <td>0.500</td>\n",
       "      <td>0.951</td>\n",
       "      <td>1.000</td>\n",
       "      <td>0.975</td>\n",
       "      <td>0.818</td>\n",
       "    </tr>\n",
       "    <tr>\n",
       "      <th>2</th>\n",
       "      <td>Logistic Regression</td>\n",
       "      <td>0.951</td>\n",
       "      <td>0.500</td>\n",
       "      <td>0.951</td>\n",
       "      <td>1.000</td>\n",
       "      <td>0.975</td>\n",
       "      <td>0.818</td>\n",
       "    </tr>\n",
       "    <tr>\n",
       "      <th>3</th>\n",
       "      <td>K-Nearest Neighbors</td>\n",
       "      <td>0.951</td>\n",
       "      <td>0.500</td>\n",
       "      <td>0.951</td>\n",
       "      <td>1.000</td>\n",
       "      <td>0.975</td>\n",
       "      <td>0.830</td>\n",
       "    </tr>\n",
       "    <tr>\n",
       "      <th>10</th>\n",
       "      <td>MLP with focal_weighted loss</td>\n",
       "      <td>0.911</td>\n",
       "      <td>0.507</td>\n",
       "      <td>0.952</td>\n",
       "      <td>0.955</td>\n",
       "      <td>0.953</td>\n",
       "      <td>0.089</td>\n",
       "    </tr>\n",
       "    <tr>\n",
       "      <th>4</th>\n",
       "      <td>Decision Tree</td>\n",
       "      <td>0.905</td>\n",
       "      <td>0.587</td>\n",
       "      <td>0.960</td>\n",
       "      <td>0.939</td>\n",
       "      <td>0.949</td>\n",
       "      <td>0.905</td>\n",
       "    </tr>\n",
       "    <tr>\n",
       "      <th>8</th>\n",
       "      <td>MLP with cost_sensitive_exp loss</td>\n",
       "      <td>0.890</td>\n",
       "      <td>0.552</td>\n",
       "      <td>0.956</td>\n",
       "      <td>0.927</td>\n",
       "      <td>0.942</td>\n",
       "      <td>0.110</td>\n",
       "    </tr>\n",
       "    <tr>\n",
       "      <th>9</th>\n",
       "      <td>MLP with focal_loss loss</td>\n",
       "      <td>0.862</td>\n",
       "      <td>0.537</td>\n",
       "      <td>0.955</td>\n",
       "      <td>0.897</td>\n",
       "      <td>0.925</td>\n",
       "      <td>0.138</td>\n",
       "    </tr>\n",
       "    <tr>\n",
       "      <th>6</th>\n",
       "      <td>MLP with normal loss</td>\n",
       "      <td>0.856</td>\n",
       "      <td>0.534</td>\n",
       "      <td>0.955</td>\n",
       "      <td>0.891</td>\n",
       "      <td>0.922</td>\n",
       "      <td>0.144</td>\n",
       "    </tr>\n",
       "    <tr>\n",
       "      <th>7</th>\n",
       "      <td>MLP with cost_sensitive loss</td>\n",
       "      <td>0.767</td>\n",
       "      <td>0.487</td>\n",
       "      <td>0.949</td>\n",
       "      <td>0.797</td>\n",
       "      <td>0.867</td>\n",
       "      <td>0.233</td>\n",
       "    </tr>\n",
       "    <tr>\n",
       "      <th>1</th>\n",
       "      <td>Multinomial Naive Bayes</td>\n",
       "      <td>0.409</td>\n",
       "      <td>0.578</td>\n",
       "      <td>0.970</td>\n",
       "      <td>0.391</td>\n",
       "      <td>0.557</td>\n",
       "      <td>0.283</td>\n",
       "    </tr>\n",
       "  </tbody>\n",
       "</table>\n",
       "</div>"
      ],
      "text/plain": [
       "                          Classifier  Accuracy  Balanced Accuracy  Precision  \\\n",
       "5                      Random Forest     0.954              0.529      0.954   \n",
       "0             Support Vector Machine     0.951              0.500      0.951   \n",
       "2                Logistic Regression     0.951              0.500      0.951   \n",
       "3                K-Nearest Neighbors     0.951              0.500      0.951   \n",
       "10      MLP with focal_weighted loss     0.911              0.507      0.952   \n",
       "4                      Decision Tree     0.905              0.587      0.960   \n",
       "8   MLP with cost_sensitive_exp loss     0.890              0.552      0.956   \n",
       "9           MLP with focal_loss loss     0.862              0.537      0.955   \n",
       "6               MLP with normal loss     0.856              0.534      0.955   \n",
       "7       MLP with cost_sensitive loss     0.767              0.487      0.949   \n",
       "1            Multinomial Naive Bayes     0.409              0.578      0.970   \n",
       "\n",
       "    Recall  F1-Score  Brier Score  \n",
       "5    1.000     0.976        0.827  \n",
       "0    1.000     0.975        0.818  \n",
       "2    1.000     0.975        0.818  \n",
       "3    1.000     0.975        0.830  \n",
       "10   0.955     0.953        0.089  \n",
       "4    0.939     0.949        0.905  \n",
       "8    0.927     0.942        0.110  \n",
       "9    0.897     0.925        0.138  \n",
       "6    0.891     0.922        0.144  \n",
       "7    0.797     0.867        0.233  \n",
       "1    0.391     0.557        0.283  "
      ]
     },
     "execution_count": 72,
     "metadata": {},
     "output_type": "execute_result"
    }
   ],
   "source": [
    "report_df.sort_values(\"F1-Score\", ascending=False).round(3)"
   ]
  },
  {
   "cell_type": "markdown",
   "id": "64108597",
   "metadata": {},
   "source": [
    "# DISCUSSION"
   ]
  },
  {
   "cell_type": "markdown",
   "id": "2d25d339",
   "metadata": {},
   "source": [
    "This study utilized different classification metrics and confusion matrices to interpret the results. Among the classification evaluation metrics, the Brier Score Loss appears to be the most reasonable metric to compare the results. This is because the Brier Score evaluates the probability of the class labels that the models make and in calculating the loss. Such a loss value holds excellent insights into the confidence level of the models in making predictions. Hence, looking at the Brier Score Loss, it is evident that the Random Forest Classifier outperformed the other models in classifying the building energy benchmark label. However, considering the estimations on the minority class, the MLP models, especially the one with cost-sensitive exponential CE loss, exhibited the most balanced distribution between classes. In this sense, it is evident that MLP models are powerful in handling imbalanced datasets."
   ]
  },
  {
   "cell_type": "code",
   "execution_count": 73,
   "id": "9d6e3cbe",
   "metadata": {},
   "outputs": [
    {
     "name": "stdout",
     "output_type": "stream",
     "text": [
      "Total run time (min): 11.2\n"
     ]
    }
   ],
   "source": [
    "overall_stop = timeit.default_timer()\n",
    "total_run_time = overall_stop - overall_start\n",
    "print(f\"Total run time (min): {(total_run_time/60):.1f}\")"
   ]
  },
  {
   "cell_type": "markdown",
   "id": "ad24f0a8",
   "metadata": {},
   "source": [
    "# END"
   ]
  }
 ],
 "metadata": {
  "kernelspec": {
   "display_name": "Python 3 (ipykernel)",
   "language": "python",
   "name": "python3"
  },
  "language_info": {
   "codemirror_mode": {
    "name": "ipython",
    "version": 3
   },
   "file_extension": ".py",
   "mimetype": "text/x-python",
   "name": "python",
   "nbconvert_exporter": "python",
   "pygments_lexer": "ipython3",
   "version": "3.7.13"
  }
 },
 "nbformat": 4,
 "nbformat_minor": 5
}
